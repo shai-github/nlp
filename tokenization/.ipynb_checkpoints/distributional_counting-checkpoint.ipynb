{
 "cells": [
  {
   "cell_type": "markdown",
   "id": "65176562",
   "metadata": {},
   "source": [
    "See links for instructions on installation if not already installed.\n",
    " - [scipy](https://scipy.org/install/) 1.5.2"
   ]
  },
  {
   "cell_type": "code",
   "execution_count": 1,
   "id": "d9922399",
   "metadata": {},
   "outputs": [],
   "source": [
    "from collections import Counter\n",
    "from operator import itemgetter\n",
    "import pandas as pd\n",
    "import numpy as np\n",
    "import math\n",
    "\n",
    "from scipy import stats"
   ]
  },
  {
   "cell_type": "markdown",
   "id": "b26c4606",
   "metadata": {},
   "source": [
    "## Distributional Counting"
   ]
  },
  {
   "cell_type": "code",
   "execution_count": 2,
   "id": "9688d4c3",
   "metadata": {},
   "outputs": [],
   "source": [
    "corpus_file = 'dataset/wiki-1percent.txt'\n",
    "vocab_file = 'dataset/vocab-15kws.txt'\n",
    "vocab_context_file = 'dataset/vocab-5k.txt'"
   ]
  },
  {
   "cell_type": "code",
   "execution_count": 3,
   "id": "d5edc5dc",
   "metadata": {},
   "outputs": [],
   "source": [
    "def create_word_embedding_matrix(corpus_file, window_size, vocab_file, vocab_context_file):\n",
    "    '''\n",
    "    Creates and stores the word embeddings for both vocabulary files\n",
    "    \n",
    "    Input:\n",
    "        corpus file (string): path to the textual corpus\n",
    "        window_size (int): size of the window\n",
    "        vocab_file (string): path to vocabulary file, V\n",
    "        vocab_context_file (string): path to context vocabulary, V_C\n",
    "        \n",
    "    Output: return word embedding matrix that may be a dictionary nesting dictionaries\n",
    "    '''\n",
    "    \n",
    "    V_list = split_lines(vocab_file)\n",
    "    V_C_list = split_lines(vocab_context_file)\n",
    "    corpus_list = split_lines(corpus_file)\n",
    "    \n",
    "    token_list = tokenize_split(corpus_list)\n",
    "    V_C_ref = {V_C:{} for V_C in V_C_list}\n",
    "    pairs_dict = {V:{} for V in V_list}\n",
    "    true_window = window_size + 1\n",
    "\n",
    "    for entry in token_list:\n",
    "        for i in range(1, true_window):\n",
    "            for j, token in enumerate(entry):\n",
    "                if token in pairs_dict.keys():\n",
    "                    if len(entry) - (j + 1) >= i and entry[j + i] in V_C_ref.keys():\n",
    "                        pairs_dict[token][entry[j + i]] = pairs_dict[token].get(entry[j + i], 0) + 1\n",
    "                    if j - i >= 0 and j + 1 < len(entry) and entry[j - i] in V_C_ref.keys():\n",
    "                        pairs_dict[token][entry[j - i]] = pairs_dict[token].get(entry[j - i], 0) + 1\n",
    "                        \n",
    "    return pairs_dict\n",
    "\n",
    "def split_lines(file):\n",
    "    '''\n",
    "    Splits text by lines\n",
    "    \n",
    "    Input:\n",
    "        text (string): collection of strings\n",
    "        \n",
    "    Output: list of tokens separated by line\n",
    "    '''\n",
    "    \n",
    "    output = open(file, \"r\")\n",
    "    output_lines = output.read()\n",
    "    output_list = output_lines.splitlines()\n",
    "    output.close\n",
    "    \n",
    "    return output_list\n",
    "\n",
    "def tokenize_split(text):\n",
    "    '''\n",
    "    Tokenizing elements by split()\n",
    "    \n",
    "    Input:\n",
    "        text (string): list of tokens\n",
    "        \n",
    "    Output: list of token lists\n",
    "    '''\n",
    "    \n",
    "    text_list = [[line] for line in text]\n",
    "    token_list = [i[0].split() for i in text_list]\n",
    "    \n",
    "    return token_list\n"
   ]
  },
  {
   "cell_type": "code",
   "execution_count": 4,
   "id": "285b673b",
   "metadata": {},
   "outputs": [],
   "source": [
    "def report_pair_counts(word_embed, window_size):\n",
    "    '''\n",
    "    Input:\n",
    "        word_embed (dict): sparse representation of counts\n",
    "        window_size (int): size of window\n",
    "        \n",
    "    Output: dataframe for given window size\n",
    "    '''\n",
    "    \n",
    "    pairs_df = pd.DataFrame()\n",
    "    pairs_df['Pair'] = ['chicken,the','chicken,wings','chicago,chicago','coffee,the','coffee,cup','coffee,coffee']\n",
    "    \n",
    "    pairs_df['count'] = [0] * 6\n",
    "    \n",
    "    pairs_df.loc[pairs_df['Pair'] == 'chicken,the', 'count'] = find_count(word_embed, 'chicken', 'the')\n",
    "    pairs_df.loc[pairs_df['Pair'] == 'chicken,wings', 'count'] = find_count(word_embed, 'chicken', 'wings')\n",
    "    pairs_df.loc[pairs_df['Pair'] == 'chicago,chicago', 'count'] = find_count(word_embed, 'chicago', 'chicago')\n",
    "    pairs_df.loc[pairs_df['Pair'] == 'coffee,the', 'count'] = find_count(word_embed, 'coffee', 'the')\n",
    "    pairs_df.loc[pairs_df['Pair'] == 'coffee,cup', 'count'] = find_count(word_embed, 'coffee', 'cup')\n",
    "    pairs_df.loc[pairs_df['Pair'] == 'coffee,coffee', 'count'] = find_count(word_embed, 'coffee', 'coffee')\n",
    "\n",
    "    print(\"These are the counts for w = \", window_size)\n",
    "    \n",
    "    return pairs_df\n",
    "\n",
    "def find_count(word_embed, V, V_C):\n",
    "    '''\n",
    "    Input:\n",
    "        word_embed (dict):\n",
    "        V (string): vocab word\n",
    "        V_C (string): vocab context word\n",
    "        \n",
    "    Output: value of count in nested dictionary\n",
    "    '''\n",
    "    \n",
    "    for k, v in word_embed.items():\n",
    "        for x, y in v.items():\n",
    "            if k == V and x == V_C:\n",
    "                return y"
   ]
  },
  {
   "cell_type": "code",
   "execution_count": 5,
   "id": "9027dd41",
   "metadata": {},
   "outputs": [
    {
     "name": "stdout",
     "output_type": "stream",
     "text": [
      "These are the counts for w =  3\n"
     ]
    },
    {
     "data": {
      "text/html": [
       "<div>\n",
       "<style scoped>\n",
       "    .dataframe tbody tr th:only-of-type {\n",
       "        vertical-align: middle;\n",
       "    }\n",
       "\n",
       "    .dataframe tbody tr th {\n",
       "        vertical-align: top;\n",
       "    }\n",
       "\n",
       "    .dataframe thead th {\n",
       "        text-align: right;\n",
       "    }\n",
       "</style>\n",
       "<table border=\"1\" class=\"dataframe\">\n",
       "  <thead>\n",
       "    <tr style=\"text-align: right;\">\n",
       "      <th></th>\n",
       "      <th>Pair</th>\n",
       "      <th>count</th>\n",
       "    </tr>\n",
       "  </thead>\n",
       "  <tbody>\n",
       "    <tr>\n",
       "      <th>0</th>\n",
       "      <td>chicken,the</td>\n",
       "      <td>52</td>\n",
       "    </tr>\n",
       "    <tr>\n",
       "      <th>1</th>\n",
       "      <td>chicken,wings</td>\n",
       "      <td>6</td>\n",
       "    </tr>\n",
       "    <tr>\n",
       "      <th>2</th>\n",
       "      <td>chicago,chicago</td>\n",
       "      <td>38</td>\n",
       "    </tr>\n",
       "    <tr>\n",
       "      <th>3</th>\n",
       "      <td>coffee,the</td>\n",
       "      <td>95</td>\n",
       "    </tr>\n",
       "    <tr>\n",
       "      <th>4</th>\n",
       "      <td>coffee,cup</td>\n",
       "      <td>10</td>\n",
       "    </tr>\n",
       "    <tr>\n",
       "      <th>5</th>\n",
       "      <td>coffee,coffee</td>\n",
       "      <td>4</td>\n",
       "    </tr>\n",
       "  </tbody>\n",
       "</table>\n",
       "</div>"
      ],
      "text/plain": [
       "              Pair  count\n",
       "0      chicken,the     52\n",
       "1    chicken,wings      6\n",
       "2  chicago,chicago     38\n",
       "3       coffee,the     95\n",
       "4       coffee,cup     10\n",
       "5    coffee,coffee      4"
      ]
     },
     "execution_count": 5,
     "metadata": {},
     "output_type": "execute_result"
    }
   ],
   "source": [
    "word_embed_3 = create_word_embedding_matrix(corpus_file, 3, vocab_file, vocab_context_file)\n",
    "df3 = report_pair_counts(word_embed_3, 3)\n",
    "df3"
   ]
  },
  {
   "cell_type": "code",
   "execution_count": 6,
   "id": "98bd7cd1",
   "metadata": {},
   "outputs": [
    {
     "name": "stdout",
     "output_type": "stream",
     "text": [
      "These are the counts for w =  6\n"
     ]
    },
    {
     "data": {
      "text/html": [
       "<div>\n",
       "<style scoped>\n",
       "    .dataframe tbody tr th:only-of-type {\n",
       "        vertical-align: middle;\n",
       "    }\n",
       "\n",
       "    .dataframe tbody tr th {\n",
       "        vertical-align: top;\n",
       "    }\n",
       "\n",
       "    .dataframe thead th {\n",
       "        text-align: right;\n",
       "    }\n",
       "</style>\n",
       "<table border=\"1\" class=\"dataframe\">\n",
       "  <thead>\n",
       "    <tr style=\"text-align: right;\">\n",
       "      <th></th>\n",
       "      <th>Pair</th>\n",
       "      <th>count</th>\n",
       "    </tr>\n",
       "  </thead>\n",
       "  <tbody>\n",
       "    <tr>\n",
       "      <th>0</th>\n",
       "      <td>chicken,the</td>\n",
       "      <td>103</td>\n",
       "    </tr>\n",
       "    <tr>\n",
       "      <th>1</th>\n",
       "      <td>chicken,wings</td>\n",
       "      <td>7</td>\n",
       "    </tr>\n",
       "    <tr>\n",
       "      <th>2</th>\n",
       "      <td>chicago,chicago</td>\n",
       "      <td>122</td>\n",
       "    </tr>\n",
       "    <tr>\n",
       "      <th>3</th>\n",
       "      <td>coffee,the</td>\n",
       "      <td>201</td>\n",
       "    </tr>\n",
       "    <tr>\n",
       "      <th>4</th>\n",
       "      <td>coffee,cup</td>\n",
       "      <td>14</td>\n",
       "    </tr>\n",
       "    <tr>\n",
       "      <th>5</th>\n",
       "      <td>coffee,coffee</td>\n",
       "      <td>36</td>\n",
       "    </tr>\n",
       "  </tbody>\n",
       "</table>\n",
       "</div>"
      ],
      "text/plain": [
       "              Pair  count\n",
       "0      chicken,the    103\n",
       "1    chicken,wings      7\n",
       "2  chicago,chicago    122\n",
       "3       coffee,the    201\n",
       "4       coffee,cup     14\n",
       "5    coffee,coffee     36"
      ]
     },
     "execution_count": 6,
     "metadata": {},
     "output_type": "execute_result"
    }
   ],
   "source": [
    "word_embed_6 = create_word_embedding_matrix(corpus_file, 6, vocab_file, vocab_context_file)\n",
    "df6 = report_pair_counts(word_embed_6, 6)\n",
    "df6"
   ]
  },
  {
   "cell_type": "code",
   "execution_count": 7,
   "id": "b66dd38c",
   "metadata": {},
   "outputs": [],
   "source": [
    "def cos_sim(word_embed, word1, word2):\n",
    "    '''\n",
    "    Generates cosine similarity score for a given pair of words\n",
    "    \n",
    "    Input:\n",
    "        word_embed (dict): sparse representation of counts\n",
    "        word1 (string): first word in pair\n",
    "        word2 (string): second word in pair\n",
    "    \n",
    "    Output: cosine similary for given word pair\n",
    "    '''\n",
    "    \n",
    "    array_sum = 0\n",
    "    \n",
    "    sub_1 = word_embed[word1]\n",
    "    sub_2 = word_embed[word2]\n",
    "    \n",
    "    len_1 = get_length(sub_1)\n",
    "    len_2 = get_length(sub_2)\n",
    "    \n",
    "    if len_1 == 0 or len_2 == 0:\n",
    "        return 0\n",
    "    \n",
    "    for key_1 in sub_1.keys():\n",
    "        if key_1 in sub_2.keys():\n",
    "            array_sum += (sub_1[key_1]*sub_2[key_1])\n",
    "            \n",
    "    return array_sum/(len_1*len_2)\n",
    "\n",
    "def get_length(sub_dict):\n",
    "    '''\n",
    "    Creates length for a given set of counts\n",
    "    \n",
    "    Input:\n",
    "        sub_dict (dictionary): dictionary representation of vector\n",
    "    \n",
    "    Output: length of vector\n",
    "    '''\n",
    "    \n",
    "    length_sum = 0\n",
    "    \n",
    "    for val in sub_dict.values():\n",
    "        length = val**2\n",
    "        length_sum += length\n",
    "        \n",
    "    return math.sqrt(length_sum)\n"
   ]
  },
  {
   "cell_type": "code",
   "execution_count": 8,
   "id": "3b3183e0",
   "metadata": {},
   "outputs": [],
   "source": [
    "def eval_word_similarity(eval_file, word_embed):\n",
    "    '''\n",
    "    Evaluates the similarity derived from word embeddings\n",
    "    \n",
    "    Input:\n",
    "        eval_file (string): text file to be evaluated\n",
    "        word_embed (dict): sparse representation of counts\n",
    "        \n",
    "    Output: spearman correlation\n",
    "    '''\n",
    "\n",
    "    eval_pairs = mutate_eval(eval_file)\n",
    "    eval_scores = []\n",
    "    embed_scores = []\n",
    "    \n",
    "    for pair in eval_pairs:\n",
    "        eval_scores.append(float(pair[2]))\n",
    "        embed_scores.append(cos_sim(word_embed, pair[0], pair[1]))\n",
    "        \n",
    "    return stats.spearmanr(eval_scores, embed_scores)[0]\n",
    "    \n",
    "def mutate_eval(eval_file):\n",
    "    '''\n",
    "    Prepares eval file data\n",
    "    \n",
    "    Input:\n",
    "        eval_file (string): text file to be evaluated\n",
    "        \n",
    "    Output: list of lists of word pairs and scores from evaluation file\n",
    "    '''\n",
    "    \n",
    "    eval_lines = []\n",
    "    ref_pairs = split_lines(eval_file)\n",
    "    \n",
    "    for line in ref_pairs:\n",
    "        eval_lines.append(line.split(\"\\t\"))\n",
    "\n",
    "    del eval_lines[0]\n",
    "    \n",
    "    return eval_lines\n"
   ]
  },
  {
   "cell_type": "code",
   "execution_count": 9,
   "id": "c0af96ee",
   "metadata": {},
   "outputs": [],
   "source": [
    "def report_spearman_corr(eval_file, word_embed, window_size, embed_type):\n",
    "    \n",
    "    score = eval_word_similarity(eval_file, word_embed)\n",
    "    print('dataset: {}, window size: {}, embedding_method: {}, spearmanr: {: .4f}'.format(\n",
    "        eval_file, window_size, embed_type, score))\n"
   ]
  },
  {
   "cell_type": "code",
   "execution_count": 10,
   "id": "e160e53f",
   "metadata": {},
   "outputs": [
    {
     "name": "stdout",
     "output_type": "stream",
     "text": [
      "Spearman corr for count embedding:\n",
      "dataset: dataset/men.txt, window size: 3, embedding_method: count, spearmanr:  0.2251\n",
      "dataset: dataset/simlex-999.txt, window size: 3, embedding_method: count, spearmanr:  0.0588\n"
     ]
    }
   ],
   "source": [
    "print('Spearman corr for count embedding:')\n",
    "report_spearman_corr(eval_file='dataset/men.txt',\n",
    "                     word_embed=word_embed_3,\n",
    "                     window_size=3,\n",
    "                     embed_type='count')\n",
    "report_spearman_corr(eval_file='dataset/simlex-999.txt',\n",
    "                     word_embed=word_embed_3,\n",
    "                     window_size=3,\n",
    "                     embed_type='count')\n"
   ]
  },
  {
   "cell_type": "markdown",
   "id": "9b1e9b1b",
   "metadata": {},
   "source": [
    "## Combining Counts with Inverse Document Frequency"
   ]
  },
  {
   "cell_type": "code",
   "execution_count": 11,
   "id": "3898b5e0",
   "metadata": {},
   "outputs": [],
   "source": [
    "import copy\n",
    "\n",
    "def create_idf_embedding_matrix(corpus_file, word_embed, vocab_context_file):\n",
    "    '''\n",
    "    Creates IDF-based embeddings\n",
    "    \n",
    "    Input:\n",
    "        corpus_file (string): path to the textual corpus\n",
    "        word_embed (dictionary): the word embedding matrix created in create_word_embedding_matrix()\n",
    "        vocab_context_file (string): path to the context vocabulary, V_C\n",
    "        \n",
    "    Output: an updated word embedding matrix incorporating IDF\n",
    "    '''\n",
    "    \n",
    "    corpus_list = split_lines(corpus_file)\n",
    "    V_C_list = split_lines(vocab_context_file)\n",
    "    V_C_ref = {V_C:{} for V_C in V_C_list}\n",
    "    token_list = tokenize_split(corpus_list)\n",
    "    \n",
    "    context_dict = {}\n",
    "    \n",
    "    num_lines = len(token_list)\n",
    "    \n",
    "    for entry in token_list:\n",
    "        for token in set(entry):\n",
    "            if token in V_C_ref.keys():\n",
    "                context_dict[token] = context_dict.get(token, 0) + 1\n",
    "    \n",
    "    idf_word_embed = copy.deepcopy(word_embed)\n",
    "                \n",
    "    for key, val in idf_word_embed.items():\n",
    "        for key2, val2 in val.items():\n",
    "            idf_word_embed[key][key2] = idf_word_embed[key][key2] * (num_lines/context_dict[key2])\n",
    "    \n",
    "    return idf_word_embed\n",
    "    "
   ]
  },
  {
   "cell_type": "code",
   "execution_count": 12,
   "id": "1132116e",
   "metadata": {},
   "outputs": [
    {
     "name": "stdout",
     "output_type": "stream",
     "text": [
      "Calculate word_embed with IDF\n",
      "\n",
      "Spearman corr for count embedding:\n",
      "dataset: dataset/men.txt, window size: 3, embedding_method: idf, spearmanr:  0.4728\n",
      "dataset: dataset/simlex-999.txt, window size: 3, embedding_method: idf, spearmanr:  0.1643\n"
     ]
    }
   ],
   "source": [
    "print(\"Calculate word_embed with IDF\\n\")\n",
    "idf_word_embed = create_idf_embedding_matrix(\n",
    "    corpus_file=corpus_file,\n",
    "    word_embed=word_embed_3,  # word embedding matrix with window size 3\n",
    "    vocab_context_file=vocab_context_file)\n",
    "\n",
    "print('Spearman corr for count embedding:')\n",
    "report_spearman_corr('dataset/men.txt',\n",
    "                     idf_word_embed,\n",
    "                     window_size=3,\n",
    "                     embed_type='idf')\n",
    "report_spearman_corr('dataset/simlex-999.txt',\n",
    "                     idf_word_embed,\n",
    "                     window_size=3,\n",
    "                     embed_type='idf')\n"
   ]
  },
  {
   "cell_type": "code",
   "execution_count": 13,
   "id": "a094e173",
   "metadata": {},
   "outputs": [],
   "source": [
    "def create_pmi_embedding_matrix(word_embed):\n",
    "    '''\n",
    "    Calcualtes pointwise multual information using given formula in write-up\n",
    "    \n",
    "    Input:\n",
    "        word_embed (dictionary): the word embedding matrix created in create_word_embedding_matrix()\n",
    "        \n",
    "    Output: calculated PMIs as a dictionary\n",
    "    '''\n",
    "\n",
    "    total_count = 0\n",
    "    for k, v in word_embed.items():\n",
    "        total_count += sum(v.values())\n",
    "\n",
    "    context_list = list(word_embed.keys())[0]\n",
    "    context_words = word_embed[context_list].keys()\n",
    "        \n",
    "    count_dict = {}\n",
    "    for word in context_words:\n",
    "        for d in word_embed.values():\n",
    "            count_dict[word] = count_dict.get(word, 0) + d.get(word, 0)\n",
    "                \n",
    "    pmi_dict = {key:{} for key in word_embed.keys()}\n",
    "        \n",
    "    for key, val in word_embed.items():\n",
    "        pxy = sum(val.values())\n",
    "        for key2, val2 in val.items():\n",
    "            if count_dict.get(key2, 0) != 0:\n",
    "                pmi_dict[key][key2] = np.log2((val2 * total_count) / (pxy * count_dict[key2]))\n",
    "            else:\n",
    "                pmi_dict[key][key2] = 0\n",
    "    \n",
    "    return pmi_dict\n"
   ]
  },
  {
   "cell_type": "code",
   "execution_count": 14,
   "id": "0d311261",
   "metadata": {},
   "outputs": [],
   "source": [
    "def report_nearest_farthest(word_embed, word, top=10):\n",
    "    if word_embed is None:\n",
    "        return\n",
    "\n",
    "    values = [(word_embed[word][c], c) for c in word_embed[word]]\n",
    "    values.sort()\n",
    "    print(\"Farthest:\")\n",
    "    for i in range(top):\n",
    "        score, word = values[i]\n",
    "        print(\"score: {: .5f}, word: {}\".format(score, word))\n",
    "    print(\"Nearest:\")\n",
    "    for i in range(top):\n",
    "        score, word = values[len(values) - 1 - i]\n",
    "        print(\"score: {: .5f}, word: {}\".format(score, word))"
   ]
  },
  {
   "cell_type": "code",
   "execution_count": 15,
   "id": "87a10dad",
   "metadata": {},
   "outputs": [
    {
     "name": "stdout",
     "output_type": "stream",
     "text": [
      "Calculate word_embed with PMI\n",
      "\n",
      "window size = 3\n",
      "Farthest:\n",
      "score: -2.29514, word: he\n",
      "score: -2.15545, word: be\n",
      "score: -2.01465, word: had\n",
      "score: -1.96549, word: this\n",
      "score: -1.90517, word: not\n",
      "score: -1.83236, word: its\n",
      "score: -1.61632, word: after\n",
      "score: -1.47888, word: more\n",
      "score: -1.43914, word: when\n",
      "score: -1.25632, word: about\n",
      "Nearest:\n",
      "score:  8.19466, word: tea\n",
      "score:  7.60847, word: drinking\n",
      "score:  7.43902, word: shop\n",
      "score:  7.39684, word: costa\n",
      "score:  7.27621, word: shops\n",
      "score:  6.55245, word: sugar\n",
      "score:  6.51796, word: coffee\n",
      "score:  6.12998, word: mix\n",
      "score:  5.98535, word: seattle\n",
      "score:  5.87145, word: houses\n"
     ]
    }
   ],
   "source": [
    "print(\"Calculate word_embed with PMI\\n\")\n",
    "pmi_word_embed = create_pmi_embedding_matrix(word_embed_3)\n",
    "print(\"window size = {}\".format(3))\n",
    "report_nearest_farthest(pmi_word_embed, \"coffee\")"
   ]
  },
  {
   "cell_type": "code",
   "execution_count": 16,
   "id": "630aca10",
   "metadata": {},
   "outputs": [
    {
     "name": "stdout",
     "output_type": "stream",
     "text": [
      "Spearman corr for PMI embedding:\n",
      "dataset: dataset/men.txt, window size: 3, embedding_method: pmi, spearmanr:  0.4654\n",
      "dataset: dataset/simlex-999.txt, window size: 3, embedding_method: pmi, spearmanr:  0.1864\n"
     ]
    }
   ],
   "source": [
    "print('Spearman corr for PMI embedding:')\n",
    "report_spearman_corr('dataset/men.txt',\n",
    "                     pmi_word_embed,\n",
    "                     window_size=3,\n",
    "                     embed_type='pmi')\n",
    "report_spearman_corr('dataset/simlex-999.txt',\n",
    "                     pmi_word_embed,\n",
    "                     window_size=3,\n",
    "                     embed_type='pmi')\n"
   ]
  },
  {
   "cell_type": "markdown",
   "id": "b4b01693",
   "metadata": {},
   "source": [
    "## Quantitivate Comparison"
   ]
  },
  {
   "cell_type": "code",
   "execution_count": 17,
   "id": "5a144db3",
   "metadata": {},
   "outputs": [
    {
     "name": "stdout",
     "output_type": "stream",
     "text": [
      "\n",
      "***Evaluating with window size 1***\n",
      "\n",
      "\n",
      "***Evaluating with context vocab dataset/vocab-15kws.txt***\n",
      "\n",
      "dataset: dataset/men.txt, window size: 1, embedding_method: count, spearmanr:  0.2064\n",
      "dataset: dataset/simlex-999.txt, window size: 1, embedding_method: count, spearmanr:  0.0700\n",
      "dataset: dataset/men.txt, window size: 1, embedding_method: idf, spearmanr:  0.3662\n",
      "dataset: dataset/simlex-999.txt, window size: 1, embedding_method: idf, spearmanr:  0.1872\n",
      "dataset: dataset/men.txt, window size: 1, embedding_method: pmi, spearmanr:  0.4677\n",
      "dataset: dataset/simlex-999.txt, window size: 1, embedding_method: pmi, spearmanr:  0.2694\n",
      "\n",
      "***Evaluating with context vocab dataset/vocab-5k.txt***\n",
      "\n",
      "dataset: dataset/men.txt, window size: 1, embedding_method: count, spearmanr:  0.2091\n",
      "dataset: dataset/simlex-999.txt, window size: 1, embedding_method: count, spearmanr:  0.0678\n",
      "dataset: dataset/men.txt, window size: 1, embedding_method: idf, spearmanr:  0.3476\n",
      "dataset: dataset/simlex-999.txt, window size: 1, embedding_method: idf, spearmanr:  0.1892\n",
      "dataset: dataset/men.txt, window size: 1, embedding_method: pmi, spearmanr:  0.4318\n",
      "dataset: dataset/simlex-999.txt, window size: 1, embedding_method: pmi, spearmanr:  0.2271\n",
      "\n",
      "***Evaluating with window size 3***\n",
      "\n",
      "\n",
      "***Evaluating with context vocab dataset/vocab-15kws.txt***\n",
      "\n",
      "dataset: dataset/men.txt, window size: 3, embedding_method: count, spearmanr:  0.2208\n",
      "dataset: dataset/simlex-999.txt, window size: 3, embedding_method: count, spearmanr:  0.0571\n",
      "dataset: dataset/men.txt, window size: 3, embedding_method: idf, spearmanr:  0.4810\n",
      "dataset: dataset/simlex-999.txt, window size: 3, embedding_method: idf, spearmanr:  0.1479\n",
      "dataset: dataset/men.txt, window size: 3, embedding_method: pmi, spearmanr:  0.5186\n",
      "dataset: dataset/simlex-999.txt, window size: 3, embedding_method: pmi, spearmanr:  0.2118\n",
      "\n",
      "***Evaluating with context vocab dataset/vocab-5k.txt***\n",
      "\n",
      "dataset: dataset/men.txt, window size: 3, embedding_method: count, spearmanr:  0.2251\n",
      "dataset: dataset/simlex-999.txt, window size: 3, embedding_method: count, spearmanr:  0.0588\n",
      "dataset: dataset/men.txt, window size: 3, embedding_method: idf, spearmanr:  0.4728\n",
      "dataset: dataset/simlex-999.txt, window size: 3, embedding_method: idf, spearmanr:  0.1643\n",
      "dataset: dataset/men.txt, window size: 3, embedding_method: pmi, spearmanr:  0.4654\n",
      "dataset: dataset/simlex-999.txt, window size: 3, embedding_method: pmi, spearmanr:  0.1864\n",
      "\n",
      "***Evaluating with window size 6***\n",
      "\n",
      "\n",
      "***Evaluating with context vocab dataset/vocab-15kws.txt***\n",
      "\n",
      "dataset: dataset/men.txt, window size: 6, embedding_method: count, spearmanr:  0.2369\n",
      "dataset: dataset/simlex-999.txt, window size: 6, embedding_method: count, spearmanr:  0.0407\n",
      "dataset: dataset/men.txt, window size: 6, embedding_method: idf, spearmanr:  0.5251\n",
      "dataset: dataset/simlex-999.txt, window size: 6, embedding_method: idf, spearmanr:  0.1088\n",
      "dataset: dataset/men.txt, window size: 6, embedding_method: pmi, spearmanr:  0.5273\n",
      "dataset: dataset/simlex-999.txt, window size: 6, embedding_method: pmi, spearmanr:  0.1608\n",
      "\n",
      "***Evaluating with context vocab dataset/vocab-5k.txt***\n",
      "\n",
      "dataset: dataset/men.txt, window size: 6, embedding_method: count, spearmanr:  0.2411\n",
      "dataset: dataset/simlex-999.txt, window size: 6, embedding_method: count, spearmanr:  0.0447\n",
      "dataset: dataset/men.txt, window size: 6, embedding_method: idf, spearmanr:  0.5324\n",
      "dataset: dataset/simlex-999.txt, window size: 6, embedding_method: idf, spearmanr:  0.1106\n",
      "dataset: dataset/men.txt, window size: 6, embedding_method: pmi, spearmanr:  0.4726\n",
      "dataset: dataset/simlex-999.txt, window size: 6, embedding_method: pmi, spearmanr:  0.1505\n"
     ]
    }
   ],
   "source": [
    "for w in [1, 3, 6]:\n",
    "    print(f\"\\n***Evaluating with window size {w}***\\n\")\n",
    "    for vocab_context_file in ['dataset/vocab-15kws.txt', 'dataset/vocab-5k.txt']:\n",
    "        print(f\"\\n***Evaluating with context vocab {vocab_context_file}***\\n\")\n",
    "        word_embed = create_word_embedding_matrix(corpus_file=corpus_file,\n",
    "                                                  window_size=w,\n",
    "                                                  vocab_file='dataset/vocab-15kws.txt',\n",
    "                                                  vocab_context_file=vocab_context_file)\n",
    "        report_spearman_corr('dataset/men.txt',\n",
    "                             word_embed,\n",
    "                             window_size=w,\n",
    "                             embed_type='count')\n",
    "        report_spearman_corr('dataset/simlex-999.txt',\n",
    "                             word_embed,\n",
    "                             window_size=w,\n",
    "                             embed_type='count')\n",
    "\n",
    "        idf_word_embed = create_idf_embedding_matrix(\n",
    "            corpus_file=corpus_file,\n",
    "            word_embed=word_embed,\n",
    "            vocab_context_file=vocab_context_file)\n",
    "        report_spearman_corr('dataset/men.txt',\n",
    "                             idf_word_embed,\n",
    "                             window_size=w,\n",
    "                             embed_type='idf')\n",
    "        report_spearman_corr('dataset/simlex-999.txt',\n",
    "                             idf_word_embed,\n",
    "                             window_size=w,\n",
    "                             embed_type='idf')\n",
    "\n",
    "        pmi_word_embed = create_pmi_embedding_matrix(word_embed)\n",
    "        report_spearman_corr('dataset/men.txt',\n",
    "                             pmi_word_embed,\n",
    "                             window_size=w,\n",
    "                             embed_type='pmi')\n",
    "        report_spearman_corr('dataset/simlex-999.txt',\n",
    "                             pmi_word_embed,\n",
    "                             window_size=w,\n",
    "                             embed_type='pmi')\n"
   ]
  },
  {
   "cell_type": "code",
   "execution_count": 18,
   "id": "5ebfce93",
   "metadata": {},
   "outputs": [],
   "source": [
    "men_df = pd.read_csv(\"dataset/men.txt\")\n",
    "men_df[['word1', 'word2', 'men score']] = men_df['word1\\tword2\\tscore'].str.split('\\t', expand=True)\n",
    "men_df.drop(['word1\\tword2\\tscore'], axis=1, inplace=True)\n",
    "men_df['pair'] = men_df['word1'] + ',' + men_df['word2']\n",
    "men_df['men score'] = men_df['men score'].astype(float)\n",
    "men_df['men norm'] = ((men_df['men score'] - men_df['men score'].min()) / (men_df['men score'].max() - men_df['men score'].min()))\n"
   ]
  },
  {
   "cell_type": "code",
   "execution_count": 19,
   "id": "efd6671a",
   "metadata": {},
   "outputs": [
    {
     "data": {
      "text/html": [
       "<div>\n",
       "<style scoped>\n",
       "    .dataframe tbody tr th:only-of-type {\n",
       "        vertical-align: middle;\n",
       "    }\n",
       "\n",
       "    .dataframe tbody tr th {\n",
       "        vertical-align: top;\n",
       "    }\n",
       "\n",
       "    .dataframe thead th {\n",
       "        text-align: right;\n",
       "    }\n",
       "</style>\n",
       "<table border=\"1\" class=\"dataframe\">\n",
       "  <thead>\n",
       "    <tr style=\"text-align: right;\">\n",
       "      <th></th>\n",
       "      <th>word1</th>\n",
       "      <th>word2</th>\n",
       "      <th>men score</th>\n",
       "      <th>pair</th>\n",
       "      <th>men norm</th>\n",
       "    </tr>\n",
       "  </thead>\n",
       "  <tbody>\n",
       "    <tr>\n",
       "      <th>0</th>\n",
       "      <td>sun</td>\n",
       "      <td>sunlight</td>\n",
       "      <td>50.0</td>\n",
       "      <td>sun,sunlight</td>\n",
       "      <td>1.00</td>\n",
       "    </tr>\n",
       "    <tr>\n",
       "      <th>1</th>\n",
       "      <td>automobile</td>\n",
       "      <td>car</td>\n",
       "      <td>50.0</td>\n",
       "      <td>automobile,car</td>\n",
       "      <td>1.00</td>\n",
       "    </tr>\n",
       "    <tr>\n",
       "      <th>2</th>\n",
       "      <td>river</td>\n",
       "      <td>water</td>\n",
       "      <td>49.0</td>\n",
       "      <td>river,water</td>\n",
       "      <td>0.98</td>\n",
       "    </tr>\n",
       "    <tr>\n",
       "      <th>3</th>\n",
       "      <td>stairs</td>\n",
       "      <td>staircase</td>\n",
       "      <td>49.0</td>\n",
       "      <td>stairs,staircase</td>\n",
       "      <td>0.98</td>\n",
       "    </tr>\n",
       "    <tr>\n",
       "      <th>4</th>\n",
       "      <td>morning</td>\n",
       "      <td>sunrise</td>\n",
       "      <td>49.0</td>\n",
       "      <td>morning,sunrise</td>\n",
       "      <td>0.98</td>\n",
       "    </tr>\n",
       "    <tr>\n",
       "      <th>5</th>\n",
       "      <td>rain</td>\n",
       "      <td>storm</td>\n",
       "      <td>49.0</td>\n",
       "      <td>rain,storm</td>\n",
       "      <td>0.98</td>\n",
       "    </tr>\n",
       "    <tr>\n",
       "      <th>6</th>\n",
       "      <td>cat</td>\n",
       "      <td>kittens</td>\n",
       "      <td>49.0</td>\n",
       "      <td>cat,kittens</td>\n",
       "      <td>0.98</td>\n",
       "    </tr>\n",
       "    <tr>\n",
       "      <th>7</th>\n",
       "      <td>dance</td>\n",
       "      <td>dancers</td>\n",
       "      <td>49.0</td>\n",
       "      <td>dance,dancers</td>\n",
       "      <td>0.98</td>\n",
       "    </tr>\n",
       "    <tr>\n",
       "      <th>8</th>\n",
       "      <td>camera</td>\n",
       "      <td>photography</td>\n",
       "      <td>49.0</td>\n",
       "      <td>camera,photography</td>\n",
       "      <td>0.98</td>\n",
       "    </tr>\n",
       "    <tr>\n",
       "      <th>9</th>\n",
       "      <td>cat</td>\n",
       "      <td>feline</td>\n",
       "      <td>48.0</td>\n",
       "      <td>cat,feline</td>\n",
       "      <td>0.96</td>\n",
       "    </tr>\n",
       "    <tr>\n",
       "      <th>10</th>\n",
       "      <td>sunny</td>\n",
       "      <td>sunshine</td>\n",
       "      <td>48.0</td>\n",
       "      <td>sunny,sunshine</td>\n",
       "      <td>0.96</td>\n",
       "    </tr>\n",
       "    <tr>\n",
       "      <th>11</th>\n",
       "      <td>pregnancy</td>\n",
       "      <td>pregnant</td>\n",
       "      <td>48.0</td>\n",
       "      <td>pregnancy,pregnant</td>\n",
       "      <td>0.96</td>\n",
       "    </tr>\n",
       "    <tr>\n",
       "      <th>12</th>\n",
       "      <td>beach</td>\n",
       "      <td>sand</td>\n",
       "      <td>48.0</td>\n",
       "      <td>beach,sand</td>\n",
       "      <td>0.96</td>\n",
       "    </tr>\n",
       "    <tr>\n",
       "      <th>13</th>\n",
       "      <td>bakery</td>\n",
       "      <td>bread</td>\n",
       "      <td>48.0</td>\n",
       "      <td>bakery,bread</td>\n",
       "      <td>0.96</td>\n",
       "    </tr>\n",
       "    <tr>\n",
       "      <th>14</th>\n",
       "      <td>flowers</td>\n",
       "      <td>garden</td>\n",
       "      <td>48.0</td>\n",
       "      <td>flowers,garden</td>\n",
       "      <td>0.96</td>\n",
       "    </tr>\n",
       "    <tr>\n",
       "      <th>15</th>\n",
       "      <td>grass</td>\n",
       "      <td>lawn</td>\n",
       "      <td>48.0</td>\n",
       "      <td>grass,lawn</td>\n",
       "      <td>0.96</td>\n",
       "    </tr>\n",
       "    <tr>\n",
       "      <th>16</th>\n",
       "      <td>copper</td>\n",
       "      <td>metal</td>\n",
       "      <td>48.0</td>\n",
       "      <td>copper,metal</td>\n",
       "      <td>0.96</td>\n",
       "    </tr>\n",
       "    <tr>\n",
       "      <th>17</th>\n",
       "      <td>photos</td>\n",
       "      <td>photography</td>\n",
       "      <td>47.0</td>\n",
       "      <td>photos,photography</td>\n",
       "      <td>0.94</td>\n",
       "    </tr>\n",
       "    <tr>\n",
       "      <th>18</th>\n",
       "      <td>cemetery</td>\n",
       "      <td>graveyard</td>\n",
       "      <td>47.0</td>\n",
       "      <td>cemetery,graveyard</td>\n",
       "      <td>0.94</td>\n",
       "    </tr>\n",
       "    <tr>\n",
       "      <th>19</th>\n",
       "      <td>gravestone</td>\n",
       "      <td>graveyard</td>\n",
       "      <td>47.0</td>\n",
       "      <td>gravestone,graveyard</td>\n",
       "      <td>0.94</td>\n",
       "    </tr>\n",
       "  </tbody>\n",
       "</table>\n",
       "</div>"
      ],
      "text/plain": [
       "         word1        word2  men score                  pair  men norm\n",
       "0          sun     sunlight       50.0          sun,sunlight      1.00\n",
       "1   automobile          car       50.0        automobile,car      1.00\n",
       "2        river        water       49.0           river,water      0.98\n",
       "3       stairs    staircase       49.0      stairs,staircase      0.98\n",
       "4      morning      sunrise       49.0       morning,sunrise      0.98\n",
       "5         rain        storm       49.0            rain,storm      0.98\n",
       "6          cat      kittens       49.0           cat,kittens      0.98\n",
       "7        dance      dancers       49.0         dance,dancers      0.98\n",
       "8       camera  photography       49.0    camera,photography      0.98\n",
       "9          cat       feline       48.0            cat,feline      0.96\n",
       "10       sunny     sunshine       48.0        sunny,sunshine      0.96\n",
       "11   pregnancy     pregnant       48.0    pregnancy,pregnant      0.96\n",
       "12       beach         sand       48.0            beach,sand      0.96\n",
       "13      bakery        bread       48.0          bakery,bread      0.96\n",
       "14     flowers       garden       48.0        flowers,garden      0.96\n",
       "15       grass         lawn       48.0            grass,lawn      0.96\n",
       "16      copper        metal       48.0          copper,metal      0.96\n",
       "17      photos  photography       47.0    photos,photography      0.94\n",
       "18    cemetery    graveyard       47.0    cemetery,graveyard      0.94\n",
       "19  gravestone    graveyard       47.0  gravestone,graveyard      0.94"
      ]
     },
     "execution_count": 19,
     "metadata": {},
     "output_type": "execute_result"
    }
   ],
   "source": [
    "men_df[0:20]"
   ]
  },
  {
   "cell_type": "code",
   "execution_count": 20,
   "id": "8b3354c3",
   "metadata": {},
   "outputs": [
    {
     "data": {
      "text/html": [
       "<div>\n",
       "<style scoped>\n",
       "    .dataframe tbody tr th:only-of-type {\n",
       "        vertical-align: middle;\n",
       "    }\n",
       "\n",
       "    .dataframe tbody tr th {\n",
       "        vertical-align: top;\n",
       "    }\n",
       "\n",
       "    .dataframe thead th {\n",
       "        text-align: right;\n",
       "    }\n",
       "</style>\n",
       "<table border=\"1\" class=\"dataframe\">\n",
       "  <thead>\n",
       "    <tr style=\"text-align: right;\">\n",
       "      <th></th>\n",
       "      <th>word1</th>\n",
       "      <th>word2</th>\n",
       "      <th>men score</th>\n",
       "      <th>pair</th>\n",
       "      <th>men norm</th>\n",
       "    </tr>\n",
       "  </thead>\n",
       "  <tbody>\n",
       "    <tr>\n",
       "      <th>2980</th>\n",
       "      <td>cheetah</td>\n",
       "      <td>soup</td>\n",
       "      <td>3.0</td>\n",
       "      <td>cheetah,soup</td>\n",
       "      <td>0.06</td>\n",
       "    </tr>\n",
       "    <tr>\n",
       "      <th>2981</th>\n",
       "      <td>puppy</td>\n",
       "      <td>skyline</td>\n",
       "      <td>3.0</td>\n",
       "      <td>puppy,skyline</td>\n",
       "      <td>0.06</td>\n",
       "    </tr>\n",
       "    <tr>\n",
       "      <th>2982</th>\n",
       "      <td>children</td>\n",
       "      <td>ford</td>\n",
       "      <td>3.0</td>\n",
       "      <td>children,ford</td>\n",
       "      <td>0.06</td>\n",
       "    </tr>\n",
       "    <tr>\n",
       "      <th>2983</th>\n",
       "      <td>cheetah</td>\n",
       "      <td>phone</td>\n",
       "      <td>3.0</td>\n",
       "      <td>cheetah,phone</td>\n",
       "      <td>0.06</td>\n",
       "    </tr>\n",
       "    <tr>\n",
       "      <th>2984</th>\n",
       "      <td>explosion</td>\n",
       "      <td>stencil</td>\n",
       "      <td>3.0</td>\n",
       "      <td>explosion,stencil</td>\n",
       "      <td>0.06</td>\n",
       "    </tr>\n",
       "    <tr>\n",
       "      <th>2985</th>\n",
       "      <td>carrots</td>\n",
       "      <td>design</td>\n",
       "      <td>2.0</td>\n",
       "      <td>carrots,design</td>\n",
       "      <td>0.04</td>\n",
       "    </tr>\n",
       "    <tr>\n",
       "      <th>2986</th>\n",
       "      <td>jellyfish</td>\n",
       "      <td>rally</td>\n",
       "      <td>2.0</td>\n",
       "      <td>jellyfish,rally</td>\n",
       "      <td>0.04</td>\n",
       "    </tr>\n",
       "    <tr>\n",
       "      <th>2987</th>\n",
       "      <td>military</td>\n",
       "      <td>tomato</td>\n",
       "      <td>2.0</td>\n",
       "      <td>military,tomato</td>\n",
       "      <td>0.04</td>\n",
       "    </tr>\n",
       "    <tr>\n",
       "      <th>2988</th>\n",
       "      <td>gun</td>\n",
       "      <td>stairs</td>\n",
       "      <td>2.0</td>\n",
       "      <td>gun,stairs</td>\n",
       "      <td>0.04</td>\n",
       "    </tr>\n",
       "    <tr>\n",
       "      <th>2989</th>\n",
       "      <td>cafe</td>\n",
       "      <td>lizard</td>\n",
       "      <td>2.0</td>\n",
       "      <td>cafe,lizard</td>\n",
       "      <td>0.04</td>\n",
       "    </tr>\n",
       "    <tr>\n",
       "      <th>2990</th>\n",
       "      <td>posted</td>\n",
       "      <td>tulip</td>\n",
       "      <td>2.0</td>\n",
       "      <td>posted,tulip</td>\n",
       "      <td>0.04</td>\n",
       "    </tr>\n",
       "    <tr>\n",
       "      <th>2991</th>\n",
       "      <td>grave</td>\n",
       "      <td>hat</td>\n",
       "      <td>2.0</td>\n",
       "      <td>grave,hat</td>\n",
       "      <td>0.04</td>\n",
       "    </tr>\n",
       "    <tr>\n",
       "      <th>2992</th>\n",
       "      <td>apple</td>\n",
       "      <td>cute</td>\n",
       "      <td>2.0</td>\n",
       "      <td>apple,cute</td>\n",
       "      <td>0.04</td>\n",
       "    </tr>\n",
       "    <tr>\n",
       "      <th>2993</th>\n",
       "      <td>angel</td>\n",
       "      <td>gasoline</td>\n",
       "      <td>1.0</td>\n",
       "      <td>angel,gasoline</td>\n",
       "      <td>0.02</td>\n",
       "    </tr>\n",
       "    <tr>\n",
       "      <th>2994</th>\n",
       "      <td>giraffe</td>\n",
       "      <td>harbor</td>\n",
       "      <td>1.0</td>\n",
       "      <td>giraffe,harbor</td>\n",
       "      <td>0.02</td>\n",
       "    </tr>\n",
       "    <tr>\n",
       "      <th>2995</th>\n",
       "      <td>feathers</td>\n",
       "      <td>truck</td>\n",
       "      <td>1.0</td>\n",
       "      <td>feathers,truck</td>\n",
       "      <td>0.02</td>\n",
       "    </tr>\n",
       "    <tr>\n",
       "      <th>2996</th>\n",
       "      <td>festival</td>\n",
       "      <td>whiskers</td>\n",
       "      <td>1.0</td>\n",
       "      <td>festival,whiskers</td>\n",
       "      <td>0.02</td>\n",
       "    </tr>\n",
       "    <tr>\n",
       "      <th>2997</th>\n",
       "      <td>muscle</td>\n",
       "      <td>tulip</td>\n",
       "      <td>1.0</td>\n",
       "      <td>muscle,tulip</td>\n",
       "      <td>0.02</td>\n",
       "    </tr>\n",
       "    <tr>\n",
       "      <th>2998</th>\n",
       "      <td>bikini</td>\n",
       "      <td>pizza</td>\n",
       "      <td>1.0</td>\n",
       "      <td>bikini,pizza</td>\n",
       "      <td>0.02</td>\n",
       "    </tr>\n",
       "    <tr>\n",
       "      <th>2999</th>\n",
       "      <td>bakery</td>\n",
       "      <td>zebra</td>\n",
       "      <td>0.0</td>\n",
       "      <td>bakery,zebra</td>\n",
       "      <td>0.00</td>\n",
       "    </tr>\n",
       "  </tbody>\n",
       "</table>\n",
       "</div>"
      ],
      "text/plain": [
       "          word1     word2  men score               pair  men norm\n",
       "2980    cheetah      soup        3.0       cheetah,soup      0.06\n",
       "2981      puppy   skyline        3.0      puppy,skyline      0.06\n",
       "2982   children      ford        3.0      children,ford      0.06\n",
       "2983    cheetah     phone        3.0      cheetah,phone      0.06\n",
       "2984  explosion   stencil        3.0  explosion,stencil      0.06\n",
       "2985    carrots    design        2.0     carrots,design      0.04\n",
       "2986  jellyfish     rally        2.0    jellyfish,rally      0.04\n",
       "2987   military    tomato        2.0    military,tomato      0.04\n",
       "2988        gun    stairs        2.0         gun,stairs      0.04\n",
       "2989       cafe    lizard        2.0        cafe,lizard      0.04\n",
       "2990     posted     tulip        2.0       posted,tulip      0.04\n",
       "2991      grave       hat        2.0          grave,hat      0.04\n",
       "2992      apple      cute        2.0         apple,cute      0.04\n",
       "2993      angel  gasoline        1.0     angel,gasoline      0.02\n",
       "2994    giraffe    harbor        1.0     giraffe,harbor      0.02\n",
       "2995   feathers     truck        1.0     feathers,truck      0.02\n",
       "2996   festival  whiskers        1.0  festival,whiskers      0.02\n",
       "2997     muscle     tulip        1.0       muscle,tulip      0.02\n",
       "2998     bikini     pizza        1.0       bikini,pizza      0.02\n",
       "2999     bakery     zebra        0.0       bakery,zebra      0.00"
      ]
     },
     "execution_count": 20,
     "metadata": {},
     "output_type": "execute_result"
    }
   ],
   "source": [
    "men_df[-20:]"
   ]
  },
  {
   "cell_type": "code",
   "execution_count": 21,
   "id": "b70aa3ef",
   "metadata": {},
   "outputs": [],
   "source": [
    "sim_df = pd.read_csv(\"dataset/simlex-999.txt\")\n",
    "sim_df[['word1', 'word2', 'sim score']] = sim_df['word1\\tword2\\tsimlex999'].str.split('\\t', expand=True)\n",
    "sim_df.drop(['word1\\tword2\\tsimlex999'], axis=1, inplace=True)\n",
    "sim_df['pair'] = sim_df['word1'] + ',' + sim_df['word2']\n",
    "sim_df['sim score'] = sim_df['sim score'].astype(float)\n",
    "sim_df['sim norm'] = (sim_df['sim score'] - sim_df['sim score'].min()) / (sim_df['sim score'].max() - sim_df['sim score'].min())\n"
   ]
  },
  {
   "cell_type": "code",
   "execution_count": 22,
   "id": "d267ec18",
   "metadata": {},
   "outputs": [
    {
     "data": {
      "text/html": [
       "<div>\n",
       "<style scoped>\n",
       "    .dataframe tbody tr th:only-of-type {\n",
       "        vertical-align: middle;\n",
       "    }\n",
       "\n",
       "    .dataframe tbody tr th {\n",
       "        vertical-align: top;\n",
       "    }\n",
       "\n",
       "    .dataframe thead th {\n",
       "        text-align: right;\n",
       "    }\n",
       "</style>\n",
       "<table border=\"1\" class=\"dataframe\">\n",
       "  <thead>\n",
       "    <tr style=\"text-align: right;\">\n",
       "      <th></th>\n",
       "      <th>word1</th>\n",
       "      <th>word2</th>\n",
       "      <th>sim score</th>\n",
       "      <th>pair</th>\n",
       "      <th>sim norm</th>\n",
       "    </tr>\n",
       "  </thead>\n",
       "  <tbody>\n",
       "    <tr>\n",
       "      <th>0</th>\n",
       "      <td>old</td>\n",
       "      <td>new</td>\n",
       "      <td>1.58</td>\n",
       "      <td>old,new</td>\n",
       "      <td>0.141066</td>\n",
       "    </tr>\n",
       "    <tr>\n",
       "      <th>1</th>\n",
       "      <td>smart</td>\n",
       "      <td>intelligent</td>\n",
       "      <td>9.20</td>\n",
       "      <td>smart,intelligent</td>\n",
       "      <td>0.937304</td>\n",
       "    </tr>\n",
       "    <tr>\n",
       "      <th>2</th>\n",
       "      <td>hard</td>\n",
       "      <td>difficult</td>\n",
       "      <td>8.77</td>\n",
       "      <td>hard,difficult</td>\n",
       "      <td>0.892372</td>\n",
       "    </tr>\n",
       "    <tr>\n",
       "      <th>3</th>\n",
       "      <td>happy</td>\n",
       "      <td>cheerful</td>\n",
       "      <td>9.55</td>\n",
       "      <td>happy,cheerful</td>\n",
       "      <td>0.973877</td>\n",
       "    </tr>\n",
       "    <tr>\n",
       "      <th>4</th>\n",
       "      <td>hard</td>\n",
       "      <td>easy</td>\n",
       "      <td>0.95</td>\n",
       "      <td>hard,easy</td>\n",
       "      <td>0.075235</td>\n",
       "    </tr>\n",
       "    <tr>\n",
       "      <th>5</th>\n",
       "      <td>fast</td>\n",
       "      <td>rapid</td>\n",
       "      <td>8.75</td>\n",
       "      <td>fast,rapid</td>\n",
       "      <td>0.890282</td>\n",
       "    </tr>\n",
       "    <tr>\n",
       "      <th>6</th>\n",
       "      <td>happy</td>\n",
       "      <td>glad</td>\n",
       "      <td>9.17</td>\n",
       "      <td>happy,glad</td>\n",
       "      <td>0.934169</td>\n",
       "    </tr>\n",
       "    <tr>\n",
       "      <th>7</th>\n",
       "      <td>short</td>\n",
       "      <td>long</td>\n",
       "      <td>1.23</td>\n",
       "      <td>short,long</td>\n",
       "      <td>0.104493</td>\n",
       "    </tr>\n",
       "    <tr>\n",
       "      <th>8</th>\n",
       "      <td>stupid</td>\n",
       "      <td>dumb</td>\n",
       "      <td>9.58</td>\n",
       "      <td>stupid,dumb</td>\n",
       "      <td>0.977011</td>\n",
       "    </tr>\n",
       "    <tr>\n",
       "      <th>9</th>\n",
       "      <td>weird</td>\n",
       "      <td>strange</td>\n",
       "      <td>8.93</td>\n",
       "      <td>weird,strange</td>\n",
       "      <td>0.909091</td>\n",
       "    </tr>\n",
       "    <tr>\n",
       "      <th>10</th>\n",
       "      <td>wide</td>\n",
       "      <td>narrow</td>\n",
       "      <td>1.03</td>\n",
       "      <td>wide,narrow</td>\n",
       "      <td>0.083595</td>\n",
       "    </tr>\n",
       "    <tr>\n",
       "      <th>11</th>\n",
       "      <td>bad</td>\n",
       "      <td>awful</td>\n",
       "      <td>8.42</td>\n",
       "      <td>bad,awful</td>\n",
       "      <td>0.855799</td>\n",
       "    </tr>\n",
       "    <tr>\n",
       "      <th>12</th>\n",
       "      <td>easy</td>\n",
       "      <td>difficult</td>\n",
       "      <td>0.58</td>\n",
       "      <td>easy,difficult</td>\n",
       "      <td>0.036573</td>\n",
       "    </tr>\n",
       "    <tr>\n",
       "      <th>13</th>\n",
       "      <td>bad</td>\n",
       "      <td>terrible</td>\n",
       "      <td>7.78</td>\n",
       "      <td>bad,terrible</td>\n",
       "      <td>0.788924</td>\n",
       "    </tr>\n",
       "    <tr>\n",
       "      <th>14</th>\n",
       "      <td>hard</td>\n",
       "      <td>simple</td>\n",
       "      <td>1.38</td>\n",
       "      <td>hard,simple</td>\n",
       "      <td>0.120167</td>\n",
       "    </tr>\n",
       "    <tr>\n",
       "      <th>15</th>\n",
       "      <td>smart</td>\n",
       "      <td>dumb</td>\n",
       "      <td>0.55</td>\n",
       "      <td>smart,dumb</td>\n",
       "      <td>0.033438</td>\n",
       "    </tr>\n",
       "    <tr>\n",
       "      <th>16</th>\n",
       "      <td>insane</td>\n",
       "      <td>crazy</td>\n",
       "      <td>9.57</td>\n",
       "      <td>insane,crazy</td>\n",
       "      <td>0.975967</td>\n",
       "    </tr>\n",
       "    <tr>\n",
       "      <th>17</th>\n",
       "      <td>happy</td>\n",
       "      <td>mad</td>\n",
       "      <td>0.95</td>\n",
       "      <td>happy,mad</td>\n",
       "      <td>0.075235</td>\n",
       "    </tr>\n",
       "    <tr>\n",
       "      <th>18</th>\n",
       "      <td>large</td>\n",
       "      <td>huge</td>\n",
       "      <td>9.47</td>\n",
       "      <td>large,huge</td>\n",
       "      <td>0.965517</td>\n",
       "    </tr>\n",
       "    <tr>\n",
       "      <th>19</th>\n",
       "      <td>hard</td>\n",
       "      <td>tough</td>\n",
       "      <td>8.05</td>\n",
       "      <td>hard,tough</td>\n",
       "      <td>0.817137</td>\n",
       "    </tr>\n",
       "  </tbody>\n",
       "</table>\n",
       "</div>"
      ],
      "text/plain": [
       "     word1        word2  sim score               pair  sim norm\n",
       "0      old          new       1.58            old,new  0.141066\n",
       "1    smart  intelligent       9.20  smart,intelligent  0.937304\n",
       "2     hard    difficult       8.77     hard,difficult  0.892372\n",
       "3    happy     cheerful       9.55     happy,cheerful  0.973877\n",
       "4     hard         easy       0.95          hard,easy  0.075235\n",
       "5     fast        rapid       8.75         fast,rapid  0.890282\n",
       "6    happy         glad       9.17         happy,glad  0.934169\n",
       "7    short         long       1.23         short,long  0.104493\n",
       "8   stupid         dumb       9.58        stupid,dumb  0.977011\n",
       "9    weird      strange       8.93      weird,strange  0.909091\n",
       "10    wide       narrow       1.03        wide,narrow  0.083595\n",
       "11     bad        awful       8.42          bad,awful  0.855799\n",
       "12    easy    difficult       0.58     easy,difficult  0.036573\n",
       "13     bad     terrible       7.78       bad,terrible  0.788924\n",
       "14    hard       simple       1.38        hard,simple  0.120167\n",
       "15   smart         dumb       0.55         smart,dumb  0.033438\n",
       "16  insane        crazy       9.57       insane,crazy  0.975967\n",
       "17   happy          mad       0.95          happy,mad  0.075235\n",
       "18   large         huge       9.47         large,huge  0.965517\n",
       "19    hard        tough       8.05         hard,tough  0.817137"
      ]
     },
     "execution_count": 22,
     "metadata": {},
     "output_type": "execute_result"
    }
   ],
   "source": [
    "sim_df[0:20]"
   ]
  },
  {
   "cell_type": "code",
   "execution_count": 23,
   "id": "c3367c5e",
   "metadata": {},
   "outputs": [
    {
     "data": {
      "text/html": [
       "<div>\n",
       "<style scoped>\n",
       "    .dataframe tbody tr th:only-of-type {\n",
       "        vertical-align: middle;\n",
       "    }\n",
       "\n",
       "    .dataframe tbody tr th {\n",
       "        vertical-align: top;\n",
       "    }\n",
       "\n",
       "    .dataframe thead th {\n",
       "        text-align: right;\n",
       "    }\n",
       "</style>\n",
       "<table border=\"1\" class=\"dataframe\">\n",
       "  <thead>\n",
       "    <tr style=\"text-align: right;\">\n",
       "      <th></th>\n",
       "      <th>word1</th>\n",
       "      <th>word2</th>\n",
       "      <th>sim score</th>\n",
       "      <th>pair</th>\n",
       "      <th>sim norm</th>\n",
       "    </tr>\n",
       "  </thead>\n",
       "  <tbody>\n",
       "    <tr>\n",
       "      <th>979</th>\n",
       "      <td>comprehend</td>\n",
       "      <td>satisfy</td>\n",
       "      <td>2.55</td>\n",
       "      <td>comprehend,satisfy</td>\n",
       "      <td>0.242424</td>\n",
       "    </tr>\n",
       "    <tr>\n",
       "      <th>980</th>\n",
       "      <td>portray</td>\n",
       "      <td>decide</td>\n",
       "      <td>1.18</td>\n",
       "      <td>portray,decide</td>\n",
       "      <td>0.099269</td>\n",
       "    </tr>\n",
       "    <tr>\n",
       "      <th>981</th>\n",
       "      <td>organize</td>\n",
       "      <td>become</td>\n",
       "      <td>1.77</td>\n",
       "      <td>organize,become</td>\n",
       "      <td>0.160920</td>\n",
       "    </tr>\n",
       "    <tr>\n",
       "      <th>982</th>\n",
       "      <td>give</td>\n",
       "      <td>know</td>\n",
       "      <td>0.88</td>\n",
       "      <td>give,know</td>\n",
       "      <td>0.067921</td>\n",
       "    </tr>\n",
       "    <tr>\n",
       "      <th>983</th>\n",
       "      <td>say</td>\n",
       "      <td>verify</td>\n",
       "      <td>4.90</td>\n",
       "      <td>say,verify</td>\n",
       "      <td>0.487983</td>\n",
       "    </tr>\n",
       "    <tr>\n",
       "      <th>984</th>\n",
       "      <td>cooperate</td>\n",
       "      <td>join</td>\n",
       "      <td>5.18</td>\n",
       "      <td>cooperate,join</td>\n",
       "      <td>0.517241</td>\n",
       "    </tr>\n",
       "    <tr>\n",
       "      <th>985</th>\n",
       "      <td>arrange</td>\n",
       "      <td>require</td>\n",
       "      <td>0.98</td>\n",
       "      <td>arrange,require</td>\n",
       "      <td>0.078370</td>\n",
       "    </tr>\n",
       "    <tr>\n",
       "      <th>986</th>\n",
       "      <td>borrow</td>\n",
       "      <td>want</td>\n",
       "      <td>1.77</td>\n",
       "      <td>borrow,want</td>\n",
       "      <td>0.160920</td>\n",
       "    </tr>\n",
       "    <tr>\n",
       "      <th>987</th>\n",
       "      <td>investigate</td>\n",
       "      <td>pursue</td>\n",
       "      <td>7.15</td>\n",
       "      <td>investigate,pursue</td>\n",
       "      <td>0.723093</td>\n",
       "    </tr>\n",
       "    <tr>\n",
       "      <th>988</th>\n",
       "      <td>ignore</td>\n",
       "      <td>explore</td>\n",
       "      <td>0.40</td>\n",
       "      <td>ignore,explore</td>\n",
       "      <td>0.017764</td>\n",
       "    </tr>\n",
       "    <tr>\n",
       "      <th>989</th>\n",
       "      <td>bring</td>\n",
       "      <td>complain</td>\n",
       "      <td>0.98</td>\n",
       "      <td>bring,complain</td>\n",
       "      <td>0.078370</td>\n",
       "    </tr>\n",
       "    <tr>\n",
       "      <th>990</th>\n",
       "      <td>enter</td>\n",
       "      <td>owe</td>\n",
       "      <td>0.68</td>\n",
       "      <td>enter,owe</td>\n",
       "      <td>0.047022</td>\n",
       "    </tr>\n",
       "    <tr>\n",
       "      <th>991</th>\n",
       "      <td>portray</td>\n",
       "      <td>notify</td>\n",
       "      <td>0.78</td>\n",
       "      <td>portray,notify</td>\n",
       "      <td>0.057471</td>\n",
       "    </tr>\n",
       "    <tr>\n",
       "      <th>992</th>\n",
       "      <td>remind</td>\n",
       "      <td>sell</td>\n",
       "      <td>0.40</td>\n",
       "      <td>remind,sell</td>\n",
       "      <td>0.017764</td>\n",
       "    </tr>\n",
       "    <tr>\n",
       "      <th>993</th>\n",
       "      <td>absorb</td>\n",
       "      <td>possess</td>\n",
       "      <td>5.00</td>\n",
       "      <td>absorb,possess</td>\n",
       "      <td>0.498433</td>\n",
       "    </tr>\n",
       "    <tr>\n",
       "      <th>994</th>\n",
       "      <td>join</td>\n",
       "      <td>acquire</td>\n",
       "      <td>2.85</td>\n",
       "      <td>join,acquire</td>\n",
       "      <td>0.273772</td>\n",
       "    </tr>\n",
       "    <tr>\n",
       "      <th>995</th>\n",
       "      <td>send</td>\n",
       "      <td>attend</td>\n",
       "      <td>1.67</td>\n",
       "      <td>send,attend</td>\n",
       "      <td>0.150470</td>\n",
       "    </tr>\n",
       "    <tr>\n",
       "      <th>996</th>\n",
       "      <td>gather</td>\n",
       "      <td>attend</td>\n",
       "      <td>4.80</td>\n",
       "      <td>gather,attend</td>\n",
       "      <td>0.477534</td>\n",
       "    </tr>\n",
       "    <tr>\n",
       "      <th>997</th>\n",
       "      <td>absorb</td>\n",
       "      <td>withdraw</td>\n",
       "      <td>2.97</td>\n",
       "      <td>absorb,withdraw</td>\n",
       "      <td>0.286311</td>\n",
       "    </tr>\n",
       "    <tr>\n",
       "      <th>998</th>\n",
       "      <td>attend</td>\n",
       "      <td>arrive</td>\n",
       "      <td>6.08</td>\n",
       "      <td>attend,arrive</td>\n",
       "      <td>0.611285</td>\n",
       "    </tr>\n",
       "  </tbody>\n",
       "</table>\n",
       "</div>"
      ],
      "text/plain": [
       "           word1     word2  sim score                pair  sim norm\n",
       "979   comprehend   satisfy       2.55  comprehend,satisfy  0.242424\n",
       "980      portray    decide       1.18      portray,decide  0.099269\n",
       "981     organize    become       1.77     organize,become  0.160920\n",
       "982         give      know       0.88           give,know  0.067921\n",
       "983          say    verify       4.90          say,verify  0.487983\n",
       "984    cooperate      join       5.18      cooperate,join  0.517241\n",
       "985      arrange   require       0.98     arrange,require  0.078370\n",
       "986       borrow      want       1.77         borrow,want  0.160920\n",
       "987  investigate    pursue       7.15  investigate,pursue  0.723093\n",
       "988       ignore   explore       0.40      ignore,explore  0.017764\n",
       "989        bring  complain       0.98      bring,complain  0.078370\n",
       "990        enter       owe       0.68           enter,owe  0.047022\n",
       "991      portray    notify       0.78      portray,notify  0.057471\n",
       "992       remind      sell       0.40         remind,sell  0.017764\n",
       "993       absorb   possess       5.00      absorb,possess  0.498433\n",
       "994         join   acquire       2.85        join,acquire  0.273772\n",
       "995         send    attend       1.67         send,attend  0.150470\n",
       "996       gather    attend       4.80       gather,attend  0.477534\n",
       "997       absorb  withdraw       2.97     absorb,withdraw  0.286311\n",
       "998       attend    arrive       6.08       attend,arrive  0.611285"
      ]
     },
     "execution_count": 23,
     "metadata": {},
     "output_type": "execute_result"
    }
   ],
   "source": [
    "sim_df[-20:]"
   ]
  },
  {
   "cell_type": "code",
   "execution_count": 24,
   "id": "01776b93",
   "metadata": {},
   "outputs": [
    {
     "data": {
      "text/html": [
       "<div>\n",
       "<style scoped>\n",
       "    .dataframe tbody tr th:only-of-type {\n",
       "        vertical-align: middle;\n",
       "    }\n",
       "\n",
       "    .dataframe tbody tr th {\n",
       "        vertical-align: top;\n",
       "    }\n",
       "\n",
       "    .dataframe thead th {\n",
       "        text-align: right;\n",
       "    }\n",
       "</style>\n",
       "<table border=\"1\" class=\"dataframe\">\n",
       "  <thead>\n",
       "    <tr style=\"text-align: right;\">\n",
       "      <th></th>\n",
       "      <th>word1</th>\n",
       "      <th>word2</th>\n",
       "      <th>men score</th>\n",
       "      <th>sim score</th>\n",
       "      <th>men norm</th>\n",
       "      <th>sim norm</th>\n",
       "    </tr>\n",
       "  </thead>\n",
       "  <tbody>\n",
       "    <tr>\n",
       "      <th>0</th>\n",
       "      <td>bed</td>\n",
       "      <td>furniture</td>\n",
       "      <td>45.0</td>\n",
       "      <td>6.08</td>\n",
       "      <td>0.90</td>\n",
       "      <td>0.611285</td>\n",
       "    </tr>\n",
       "    <tr>\n",
       "      <th>1</th>\n",
       "      <td>river</td>\n",
       "      <td>stream</td>\n",
       "      <td>45.0</td>\n",
       "      <td>7.30</td>\n",
       "      <td>0.90</td>\n",
       "      <td>0.738767</td>\n",
       "    </tr>\n",
       "    <tr>\n",
       "      <th>2</th>\n",
       "      <td>beach</td>\n",
       "      <td>sea</td>\n",
       "      <td>44.0</td>\n",
       "      <td>4.68</td>\n",
       "      <td>0.88</td>\n",
       "      <td>0.464995</td>\n",
       "    </tr>\n",
       "    <tr>\n",
       "      <th>3</th>\n",
       "      <td>clothes</td>\n",
       "      <td>jacket</td>\n",
       "      <td>43.0</td>\n",
       "      <td>5.15</td>\n",
       "      <td>0.86</td>\n",
       "      <td>0.514107</td>\n",
       "    </tr>\n",
       "    <tr>\n",
       "      <th>4</th>\n",
       "      <td>bathroom</td>\n",
       "      <td>kitchen</td>\n",
       "      <td>43.0</td>\n",
       "      <td>3.10</td>\n",
       "      <td>0.86</td>\n",
       "      <td>0.299896</td>\n",
       "    </tr>\n",
       "    <tr>\n",
       "      <th>5</th>\n",
       "      <td>bed</td>\n",
       "      <td>bedroom</td>\n",
       "      <td>42.0</td>\n",
       "      <td>3.40</td>\n",
       "      <td>0.84</td>\n",
       "      <td>0.331243</td>\n",
       "    </tr>\n",
       "    <tr>\n",
       "      <th>6</th>\n",
       "      <td>day</td>\n",
       "      <td>morning</td>\n",
       "      <td>41.0</td>\n",
       "      <td>4.87</td>\n",
       "      <td>0.82</td>\n",
       "      <td>0.484848</td>\n",
       "    </tr>\n",
       "    <tr>\n",
       "      <th>7</th>\n",
       "      <td>bathroom</td>\n",
       "      <td>bedroom</td>\n",
       "      <td>38.0</td>\n",
       "      <td>3.40</td>\n",
       "      <td>0.76</td>\n",
       "      <td>0.331243</td>\n",
       "    </tr>\n",
       "    <tr>\n",
       "      <th>8</th>\n",
       "      <td>cloud</td>\n",
       "      <td>mist</td>\n",
       "      <td>37.0</td>\n",
       "      <td>6.67</td>\n",
       "      <td>0.74</td>\n",
       "      <td>0.672936</td>\n",
       "    </tr>\n",
       "    <tr>\n",
       "      <th>9</th>\n",
       "      <td>river</td>\n",
       "      <td>valley</td>\n",
       "      <td>37.0</td>\n",
       "      <td>1.67</td>\n",
       "      <td>0.74</td>\n",
       "      <td>0.150470</td>\n",
       "    </tr>\n",
       "    <tr>\n",
       "      <th>10</th>\n",
       "      <td>snow</td>\n",
       "      <td>weather</td>\n",
       "      <td>37.0</td>\n",
       "      <td>5.48</td>\n",
       "      <td>0.74</td>\n",
       "      <td>0.548589</td>\n",
       "    </tr>\n",
       "    <tr>\n",
       "      <th>11</th>\n",
       "      <td>canyon</td>\n",
       "      <td>valley</td>\n",
       "      <td>36.0</td>\n",
       "      <td>6.75</td>\n",
       "      <td>0.72</td>\n",
       "      <td>0.681296</td>\n",
       "    </tr>\n",
       "    <tr>\n",
       "      <th>12</th>\n",
       "      <td>chicken</td>\n",
       "      <td>rice</td>\n",
       "      <td>34.0</td>\n",
       "      <td>1.43</td>\n",
       "      <td>0.68</td>\n",
       "      <td>0.125392</td>\n",
       "    </tr>\n",
       "    <tr>\n",
       "      <th>13</th>\n",
       "      <td>door</td>\n",
       "      <td>floor</td>\n",
       "      <td>28.0</td>\n",
       "      <td>1.67</td>\n",
       "      <td>0.56</td>\n",
       "      <td>0.150470</td>\n",
       "    </tr>\n",
       "    <tr>\n",
       "      <th>14</th>\n",
       "      <td>door</td>\n",
       "      <td>kitchen</td>\n",
       "      <td>24.0</td>\n",
       "      <td>1.67</td>\n",
       "      <td>0.48</td>\n",
       "      <td>0.150470</td>\n",
       "    </tr>\n",
       "  </tbody>\n",
       "</table>\n",
       "</div>"
      ],
      "text/plain": [
       "       word1      word2  men score  sim score  men norm  sim norm\n",
       "0        bed  furniture       45.0       6.08      0.90  0.611285\n",
       "1      river     stream       45.0       7.30      0.90  0.738767\n",
       "2      beach        sea       44.0       4.68      0.88  0.464995\n",
       "3    clothes     jacket       43.0       5.15      0.86  0.514107\n",
       "4   bathroom    kitchen       43.0       3.10      0.86  0.299896\n",
       "5        bed    bedroom       42.0       3.40      0.84  0.331243\n",
       "6        day    morning       41.0       4.87      0.82  0.484848\n",
       "7   bathroom    bedroom       38.0       3.40      0.76  0.331243\n",
       "8      cloud       mist       37.0       6.67      0.74  0.672936\n",
       "9      river     valley       37.0       1.67      0.74  0.150470\n",
       "10      snow    weather       37.0       5.48      0.74  0.548589\n",
       "11    canyon     valley       36.0       6.75      0.72  0.681296\n",
       "12   chicken       rice       34.0       1.43      0.68  0.125392\n",
       "13      door      floor       28.0       1.67      0.56  0.150470\n",
       "14      door    kitchen       24.0       1.67      0.48  0.150470"
      ]
     },
     "execution_count": 24,
     "metadata": {},
     "output_type": "execute_result"
    }
   ],
   "source": [
    "score_df = men_df.merge(sim_df, on = 'pair', how = 'inner')\n",
    "score_df = score_df[['word1_x', 'word2_x', 'men score', 'sim score', 'men norm', 'sim norm']]\n",
    "score_df.rename(columns = {'word1_x':'word1', 'word2_x':'word2'}, inplace = True)\n",
    "score_df"
   ]
  },
  {
   "cell_type": "code",
   "execution_count": 25,
   "id": "8792d55f",
   "metadata": {},
   "outputs": [
    {
     "data": {
      "text/plain": [
       "(array([  7.,  26.,  96., 140., 139., 164., 129., 149., 133., 116., 140.,\n",
       "        133., 135., 135., 126., 155., 140., 146., 196., 163., 147., 140.,\n",
       "         92.,  36.,  17.]),\n",
       " array([0.  , 0.04, 0.08, 0.12, 0.16, 0.2 , 0.24, 0.28, 0.32, 0.36, 0.4 ,\n",
       "        0.44, 0.48, 0.52, 0.56, 0.6 , 0.64, 0.68, 0.72, 0.76, 0.8 , 0.84,\n",
       "        0.88, 0.92, 0.96, 1.  ]),\n",
       " <BarContainer object of 25 artists>)"
      ]
     },
     "execution_count": 25,
     "metadata": {},
     "output_type": "execute_result"
    },
    {
     "data": {
      "image/png": "[encoded data removed]",
      "text/plain": [
       "<Figure size 432x288 with 1 Axes>"
      ]
     },
     "metadata": {
      "needs_background": "light"
     },
     "output_type": "display_data"
    }
   ],
   "source": [
    "import matplotlib.pyplot as plt\n",
    "\n",
    "plt.hist(men_df['men norm'], bins=25)"
   ]
  },
  {
   "cell_type": "code",
   "execution_count": 26,
   "id": "b2d8dfe8",
   "metadata": {},
   "outputs": [
    {
     "data": {
      "text/plain": [
       "(array([63., 50., 43., 40., 30., 39., 42., 44., 50., 47., 38., 37., 56.,\n",
       "        47., 48., 38., 36., 40., 45., 41., 32., 32., 31., 20., 10.]),\n",
       " array([0.  , 0.04, 0.08, 0.12, 0.16, 0.2 , 0.24, 0.28, 0.32, 0.36, 0.4 ,\n",
       "        0.44, 0.48, 0.52, 0.56, 0.6 , 0.64, 0.68, 0.72, 0.76, 0.8 , 0.84,\n",
       "        0.88, 0.92, 0.96, 1.  ]),\n",
       " <BarContainer object of 25 artists>)"
      ]
     },
     "execution_count": 26,
     "metadata": {},
     "output_type": "execute_result"
    },
    {
     "data": {
      "image/png": "[encoded data removed]",
      "text/plain": [
       "<Figure size 432x288 with 1 Axes>"
      ]
     },
     "metadata": {
      "needs_background": "light"
     },
     "output_type": "display_data"
    }
   ],
   "source": [
    "plt.hist(sim_df['sim norm'], bins=25)"
   ]
  },
  {
   "cell_type": "code",
   "execution_count": 27,
   "id": "c9958699",
   "metadata": {},
   "outputs": [],
   "source": [
    "def neighbor_sim(word_embed, word):\n",
    "    '''\n",
    "    Calculates cosine similarity score for a given word and all others in the voacbulary\n",
    "    \n",
    "    Input:\n",
    "        word_embed (dictionary): the word embedding matrix created in create_word_embedding_matrix() with PMI\n",
    "        word (string): word of interest\n",
    "    \n",
    "    Output: dictionary of nearest neighbor cosine similarity scores\n",
    "    '''\n",
    "\n",
    "    neighbor_dict = {}\n",
    "    \n",
    "    for key, val in word_embed.items():\n",
    "        neighbor_dict[key] = cos_sim(word_embed, word, key)\n",
    "    \n",
    "    return neighbor_dict\n",
    "\n",
    "def top_neighbors(neighbor_dict, num_neighbors):\n",
    "    '''\n",
    "    Notes top nearest neighbors\n",
    "    \n",
    "    Input:\n",
    "        neighbor_dict (dictionary): dictionary of PMI values for nearest neighbors\n",
    "        num_neighbors (int): number of top neighbors to be listed\n",
    "        \n",
    "    Output: dictionary of top n nearest neighbors\n",
    "    '''\n",
    "    \n",
    "    return dict(sorted(neighbor_dict.items(), key = itemgetter(1), reverse = True)[1:(num_neighbors + 1)])\n"
   ]
  },
  {
   "cell_type": "code",
   "execution_count": 28,
   "id": "f4d50247",
   "metadata": {},
   "outputs": [],
   "source": [
    "w1 = create_word_embedding_matrix(corpus_file, 1, vocab_file, vocab_file)\n",
    "w6 = create_word_embedding_matrix(corpus_file, 6, vocab_file, vocab_file)"
   ]
  },
  {
   "cell_type": "code",
   "execution_count": 29,
   "id": "adef3014",
   "metadata": {},
   "outputs": [],
   "source": [
    "pmi1 = create_pmi_embedding_matrix(w1)\n",
    "pmi6 = create_pmi_embedding_matrix(w6)"
   ]
  },
  {
   "cell_type": "code",
   "execution_count": 30,
   "id": "7761ecfd",
   "metadata": {},
   "outputs": [
    {
     "name": "stdout",
     "output_type": "stream",
     "text": [
      "The 10 nearest neighbors for the query word judges for a window size of 1 are:\n"
     ]
    },
    {
     "data": {
      "text/plain": [
       "{'judge': 0.15739358699112754,\n",
       " 'justices': 0.151971614688059,\n",
       " 'arbitrators': 0.1375800398458425,\n",
       " 'players': 0.13203019250333903,\n",
       " 'trustees': 0.13066566744647187,\n",
       " 'contestants': 0.12520077761118031,\n",
       " 'officials': 0.12354245535415993,\n",
       " 'appeals': 0.11969415054097497,\n",
       " 'councillors': 0.11684107961958264,\n",
       " 'officers': 0.11639675642404376}"
      ]
     },
     "execution_count": 30,
     "metadata": {},
     "output_type": "execute_result"
    }
   ],
   "source": [
    "print(\"The 10 nearest neighbors for the query word judges for a window size of 1 are:\")\n",
    "top_neighbors(neighbor_sim(pmi1, \"judges\"), 10)"
   ]
  },
  {
   "cell_type": "code",
   "execution_count": 31,
   "id": "497cd688",
   "metadata": {},
   "outputs": [
    {
     "name": "stdout",
     "output_type": "stream",
     "text": [
      "The 10 nearest neighbors for the query word judges for a window size of 6 are:\n"
     ]
    },
    {
     "data": {
      "text/plain": [
       "{'judge': 0.20229339721602954,\n",
       " 'appeals': 0.17720629406820268,\n",
       " 'supreme': 0.17633911537128832,\n",
       " 'court': 0.17182940422622084,\n",
       " 'panel': 0.16887325257996347,\n",
       " 'courts': 0.1663443827857536,\n",
       " 'jury': 0.16486233265102096,\n",
       " 'contestants': 0.1642285417769334,\n",
       " 'justice': 0.1638509488679031,\n",
       " 'officials': 0.16321979588124202}"
      ]
     },
     "execution_count": 31,
     "metadata": {},
     "output_type": "execute_result"
    }
   ],
   "source": [
    "print(\"The 10 nearest neighbors for the query word judges for a window size of 6 are:\")\n",
    "top_neighbors(neighbor_sim(pmi6, \"judges\"), 10)"
   ]
  },
  {
   "cell_type": "markdown",
   "id": "853e5276",
   "metadata": {},
   "source": [
    "### Exploring Nouns"
   ]
  },
  {
   "cell_type": "markdown",
   "id": "1999095e",
   "metadata": {},
   "source": [
    "##### Computer"
   ]
  },
  {
   "cell_type": "code",
   "execution_count": 32,
   "id": "6dc50bc6",
   "metadata": {},
   "outputs": [
    {
     "name": "stdout",
     "output_type": "stream",
     "text": [
      "The 10 nearest neighbors for the query word computer for a window size of 1 are:\n"
     ]
    },
    {
     "data": {
      "text/plain": [
       "{'software': 0.2263052665471876,\n",
       " 'systems': 0.18736681187289092,\n",
       " 'technology': 0.18335040333552963,\n",
       " 'computing': 0.17213570848249213,\n",
       " 'computers': 0.1717731304939122,\n",
       " 'management': 0.16638798360158688,\n",
       " 'video': 0.16416925502543375,\n",
       " 'system': 0.16096551052374497,\n",
       " 'pc': 0.15860422966620957,\n",
       " 'graphics': 0.15731033600638303}"
      ]
     },
     "execution_count": 32,
     "metadata": {},
     "output_type": "execute_result"
    }
   ],
   "source": [
    "print(\"The 10 nearest neighbors for the query word computer for a window size of 1 are:\")\n",
    "top_neighbors(neighbor_sim(pmi1, \"computer\"), 10)"
   ]
  },
  {
   "cell_type": "code",
   "execution_count": 33,
   "id": "d916f979",
   "metadata": {},
   "outputs": [
    {
     "name": "stdout",
     "output_type": "stream",
     "text": [
      "The 10 nearest neighbors for the query word computer for a window size of 6 are:\n"
     ]
    },
    {
     "data": {
      "text/plain": [
       "{'software': 0.387439784228794,\n",
       " 'systems': 0.3614991956867727,\n",
       " 'data': 0.3364381935372667,\n",
       " 'technology': 0.33528069449112563,\n",
       " 'computers': 0.315423452487303,\n",
       " 'using': 0.3123869988893769,\n",
       " 'digital': 0.2859933908818646,\n",
       " 'applications': 0.28298991447893407,\n",
       " 'graphics': 0.2781576055578306,\n",
       " 'hardware': 0.2755571307797763}"
      ]
     },
     "execution_count": 33,
     "metadata": {},
     "output_type": "execute_result"
    }
   ],
   "source": [
    "print(\"The 10 nearest neighbors for the query word computer for a window size of 6 are:\")\n",
    "top_neighbors(neighbor_sim(pmi6, \"computer\"), 10)"
   ]
  },
  {
   "cell_type": "markdown",
   "id": "63a85035",
   "metadata": {},
   "source": [
    "##### Castle"
   ]
  },
  {
   "cell_type": "code",
   "execution_count": 34,
   "id": "4c9f8e9f",
   "metadata": {},
   "outputs": [
    {
     "name": "stdout",
     "output_type": "stream",
     "text": [
      "The 10 nearest neighbors for the query word castle for a window size of 1 are:\n"
     ]
    },
    {
     "data": {
      "text/plain": [
       "{'tower': 0.12892739379933085,\n",
       " 'city': 0.12818380469388035,\n",
       " 'chapel': 0.12519042506203457,\n",
       " 'port': 0.12025831529429541,\n",
       " 'near': 0.11803323328646169,\n",
       " 'fortress': 0.1177018705056256,\n",
       " 'fort': 0.1167006839784267,\n",
       " 'campus': 0.11542036201283429,\n",
       " 'hill': 0.1148470299998442,\n",
       " 'manor': 0.1139398140717059}"
      ]
     },
     "execution_count": 34,
     "metadata": {},
     "output_type": "execute_result"
    }
   ],
   "source": [
    "print(\"The 10 nearest neighbors for the query word castle for a window size of 1 are:\")\n",
    "top_neighbors(neighbor_sim(pmi1, \"castle\"), 10)"
   ]
  },
  {
   "cell_type": "code",
   "execution_count": 35,
   "id": "1eca599d",
   "metadata": {},
   "outputs": [
    {
     "name": "stdout",
     "output_type": "stream",
     "text": [
      "The 10 nearest neighbors for the query word castle for a window size of 6 are:\n"
     ]
    },
    {
     "data": {
      "text/plain": [
       "{'near': 0.23592948608247458,\n",
       " 'tower': 0.23509043515057776,\n",
       " 'hill': 0.23478386390300898,\n",
       " 'henry': 0.22988708050145432,\n",
       " 'buildings': 0.22680064590975504,\n",
       " 'palace': 0.22563654637251135,\n",
       " 'st': 0.22374918229374255,\n",
       " 'building': 0.22213462522627822,\n",
       " 'house': 0.22062596117756578,\n",
       " 'manor': 0.21787268505701723}"
      ]
     },
     "execution_count": 35,
     "metadata": {},
     "output_type": "execute_result"
    }
   ],
   "source": [
    "print(\"The 10 nearest neighbors for the query word castle for a window size of 6 are:\")\n",
    "top_neighbors(neighbor_sim(pmi6, \"castle\"), 10)"
   ]
  },
  {
   "cell_type": "markdown",
   "id": "65accdce",
   "metadata": {},
   "source": [
    "##### Poet"
   ]
  },
  {
   "cell_type": "code",
   "execution_count": 36,
   "id": "81d90e9e",
   "metadata": {},
   "outputs": [
    {
     "name": "stdout",
     "output_type": "stream",
     "text": [
      "The 10 nearest neighbors for the query word poet for a window size of 1 are:\n"
     ]
    },
    {
     "data": {
      "text/plain": [
       "{'writer': 0.2762460229558417,\n",
       " 'politician': 0.26461429497771644,\n",
       " 'footballer': 0.26444497534783995,\n",
       " 'painter': 0.26344173389990605,\n",
       " 'architect': 0.25413955191566245,\n",
       " 'composer': 0.24181360526520068,\n",
       " 'mathematician': 0.23340291173732414,\n",
       " 'actor': 0.2312342941121643,\n",
       " 'philosopher': 0.2290436716923197,\n",
       " 'botanist': 0.22828100980856217}"
      ]
     },
     "execution_count": 36,
     "metadata": {},
     "output_type": "execute_result"
    }
   ],
   "source": [
    "print(\"The 10 nearest neighbors for the query word poet for a window size of 1 are:\")\n",
    "top_neighbors(neighbor_sim(pmi1, \"poet\"), 10)"
   ]
  },
  {
   "cell_type": "code",
   "execution_count": 37,
   "id": "d71dd864",
   "metadata": {},
   "outputs": [
    {
     "name": "stdout",
     "output_type": "stream",
     "text": [
      "The 10 nearest neighbors for the query word poet for a window size of 6 are:\n"
     ]
    },
    {
     "data": {
      "text/plain": [
       "{'writer': 0.339896245203977,\n",
       " 'novelist': 0.284335095964031,\n",
       " 'playwright': 0.2660191799591505,\n",
       " 'politician': 0.2589143482874978,\n",
       " 'philosopher': 0.2580276942956023,\n",
       " 'author': 0.257036573121854,\n",
       " 'painter': 0.25476941435436146,\n",
       " 'journalist': 0.25441426271247836,\n",
       " 'composer': 0.2536817200954802,\n",
       " 'historian': 0.24931001531876637}"
      ]
     },
     "execution_count": 37,
     "metadata": {},
     "output_type": "execute_result"
    }
   ],
   "source": [
    "print(\"The 10 nearest neighbors for the query word poet for a window size of 6 are:\")\n",
    "top_neighbors(neighbor_sim(pmi6, \"poet\"), 10)"
   ]
  },
  {
   "cell_type": "markdown",
   "id": "fcc7e794",
   "metadata": {},
   "source": [
    "### Exploring Verbs"
   ]
  },
  {
   "cell_type": "markdown",
   "id": "bb0c259b",
   "metadata": {},
   "source": [
    "##### Attacked"
   ]
  },
  {
   "cell_type": "code",
   "execution_count": 38,
   "id": "ac201f73",
   "metadata": {},
   "outputs": [
    {
     "name": "stdout",
     "output_type": "stream",
     "text": [
      "The 10 nearest neighbors for the query attacked for a window size of 1 are:\n"
     ]
    },
    {
     "data": {
      "text/plain": [
       "{'arrested': 0.1850224881399832,\n",
       " 'captured': 0.17166463890347267,\n",
       " 'seized': 0.1600308078118343,\n",
       " 'raided': 0.15746088795302965,\n",
       " 'engaged': 0.15597066762510373,\n",
       " 'fought': 0.15491050824806635,\n",
       " 'bombed': 0.15481807373730094,\n",
       " 'commanded': 0.14745525349668884,\n",
       " 'killed': 0.14734350042738595,\n",
       " 'occupied': 0.14729450583504178}"
      ]
     },
     "execution_count": 38,
     "metadata": {},
     "output_type": "execute_result"
    }
   ],
   "source": [
    "print(\"The 10 nearest neighbors for the query attacked for a window size of 1 are:\")\n",
    "top_neighbors(neighbor_sim(pmi1, \"attacked\"), 10)"
   ]
  },
  {
   "cell_type": "code",
   "execution_count": 39,
   "id": "f7bc0b18",
   "metadata": {},
   "outputs": [
    {
     "name": "stdout",
     "output_type": "stream",
     "text": [
      "The 10 nearest neighbors for the query attacked for a window size of 6 are:\n"
     ]
    },
    {
     "data": {
      "text/plain": [
       "{'attack': 0.2788722573092173,\n",
       " 'killed': 0.2594108770579393,\n",
       " 'forces': 0.25112377083297904,\n",
       " 'soldiers': 0.2464318157537732,\n",
       " 'troops': 0.2434889975933616,\n",
       " 'captured': 0.23662916085724453,\n",
       " 'enemy': 0.22475605012038216,\n",
       " 'attacks': 0.21567752010296468,\n",
       " 'army': 0.21063725396915256,\n",
       " 'fought': 0.20822639307322918}"
      ]
     },
     "execution_count": 39,
     "metadata": {},
     "output_type": "execute_result"
    }
   ],
   "source": [
    "print(\"The 10 nearest neighbors for the query attacked for a window size of 6 are:\")\n",
    "top_neighbors(neighbor_sim(pmi6, \"attacked\"), 10)"
   ]
  },
  {
   "cell_type": "markdown",
   "id": "1ded1014",
   "metadata": {},
   "source": [
    "##### Deleted"
   ]
  },
  {
   "cell_type": "code",
   "execution_count": 40,
   "id": "a970e434",
   "metadata": {},
   "outputs": [
    {
     "name": "stdout",
     "output_type": "stream",
     "text": [
      "The 10 nearest neighbors for the query deleted for a window size of 1 are:\n"
     ]
    },
    {
     "data": {
      "text/plain": [
       "{'reverted': 0.2597424273330936,\n",
       " 'removed': 0.2422768600349251,\n",
       " 'blocked': 0.22065245441985967,\n",
       " 'speedied': 0.20945975461082683,\n",
       " 'tagged': 0.2004490986696082,\n",
       " 'deleting': 0.1834625051679576,\n",
       " 'delete': 0.18189126962950142,\n",
       " 'done': 0.1748216349827043,\n",
       " 'recreated': 0.1732752058406352,\n",
       " 'vandalized': 0.16768530864732697}"
      ]
     },
     "execution_count": 40,
     "metadata": {},
     "output_type": "execute_result"
    }
   ],
   "source": [
    "print(\"The 10 nearest neighbors for the query deleted for a window size of 1 are:\")\n",
    "top_neighbors(neighbor_sim(pmi1, \"deleted\"), 10)"
   ]
  },
  {
   "cell_type": "code",
   "execution_count": 41,
   "id": "1936da4b",
   "metadata": {},
   "outputs": [
    {
     "name": "stdout",
     "output_type": "stream",
     "text": [
      "The 10 nearest neighbors for the query deleted for a window size of 6 are:\n"
     ]
    },
    {
     "data": {
      "text/plain": [
       "{'delete': 0.4062735303611156,\n",
       " 'speedy': 0.3684085861379682,\n",
       " 'afd': 0.3619178414420022,\n",
       " 'edit': 0.3404946610493714,\n",
       " 'user': 0.33880386804632096,\n",
       " 'pages': 0.30418145846707223,\n",
       " 'comment': 0.3005144429716349,\n",
       " 'content': 0.29765058181446663,\n",
       " 'wikipedia': 0.29717913792717043,\n",
       " 'tagged': 0.2969539538103462}"
      ]
     },
     "execution_count": 41,
     "metadata": {},
     "output_type": "execute_result"
    }
   ],
   "source": [
    "print(\"The 10 nearest neighbors for the query deleted for a window size of 6 are:\")\n",
    "top_neighbors(neighbor_sim(pmi6, \"deleted\"), 10)"
   ]
  },
  {
   "cell_type": "markdown",
   "id": "7645802f",
   "metadata": {},
   "source": [
    "##### Produced"
   ]
  },
  {
   "cell_type": "code",
   "execution_count": 42,
   "id": "b5d30fc0",
   "metadata": {},
   "outputs": [
    {
     "name": "stdout",
     "output_type": "stream",
     "text": [
      "The 10 nearest neighbors for the query produced for a window size of 1 are:\n"
     ]
    },
    {
     "data": {
      "text/plain": [
       "{'released': 0.15913168491860558,\n",
       " 'used': 0.1580065841269996,\n",
       " 'developed': 0.15543009754986523,\n",
       " 'published': 0.1540175566538858,\n",
       " 'created': 0.14904561552898016,\n",
       " 'sold': 0.1411848180286218,\n",
       " 'written': 0.13904474050122154,\n",
       " 'produce': 0.13821446406977494,\n",
       " 'included': 0.13400476630885907,\n",
       " 'built': 0.13293659089408316}"
      ]
     },
     "execution_count": 42,
     "metadata": {},
     "output_type": "execute_result"
    }
   ],
   "source": [
    "print(\"The 10 nearest neighbors for the query produced for a window size of 1 are:\")\n",
    "top_neighbors(neighbor_sim(pmi1, \"produced\"), 10)"
   ]
  },
  {
   "cell_type": "code",
   "execution_count": 43,
   "id": "c7352a16",
   "metadata": {},
   "outputs": [
    {
     "name": "stdout",
     "output_type": "stream",
     "text": [
      "The 10 nearest neighbors for the query produced for a window size of 6 are:\n"
     ]
    },
    {
     "data": {
      "text/plain": [
       "{'production': 0.32136984361005366,\n",
       " 'directed': 0.3136329609320139,\n",
       " 'television': 0.29359816104529024,\n",
       " 'series': 0.2883612651605817,\n",
       " 'recorded': 0.28324005369042493,\n",
       " 'featured': 0.2789117273009123,\n",
       " 'released': 0.278717665787671,\n",
       " 'appeared': 0.27862965383531424,\n",
       " 'written': 0.2726681412081105,\n",
       " 'film': 0.26996799264602156}"
      ]
     },
     "execution_count": 43,
     "metadata": {},
     "output_type": "execute_result"
    }
   ],
   "source": [
    "print(\"The 10 nearest neighbors for the query produced for a window size of 6 are:\")\n",
    "top_neighbors(neighbor_sim(pmi6, \"produced\"), 10)"
   ]
  },
  {
   "cell_type": "markdown",
   "id": "f1dec74b",
   "metadata": {},
   "source": [
    "### Exploring Adjectives"
   ]
  },
  {
   "cell_type": "markdown",
   "id": "3a1dea31",
   "metadata": {},
   "source": [
    "##### Unfortunate"
   ]
  },
  {
   "cell_type": "code",
   "execution_count": 44,
   "id": "89384aa1",
   "metadata": {},
   "outputs": [
    {
     "name": "stdout",
     "output_type": "stream",
     "text": [
      "The 10 nearest neighbors for the query unfortunate for a window size of 1 are:\n"
     ]
    },
    {
     "data": {
      "text/plain": [
       "{'tragic': 0.16722405545825705,\n",
       " 'adverse': 0.13354903383400837,\n",
       " 'unexpected': 0.11833310079657912,\n",
       " 'unlikely': 0.11389372689139889,\n",
       " 'annoying': 0.11305001981516408,\n",
       " 'touching': 0.11271169510823269,\n",
       " 'awful': 0.11156579978752776,\n",
       " 'curious': 0.10963963494545322,\n",
       " 'bizarre': 0.10848634984179202,\n",
       " 'sad': 0.10511997868888547}"
      ]
     },
     "execution_count": 44,
     "metadata": {},
     "output_type": "execute_result"
    }
   ],
   "source": [
    "print(\"The 10 nearest neighbors for the query unfortunate for a window size of 1 are:\")\n",
    "top_neighbors(neighbor_sim(pmi1, \"unfortunate\"), 10)"
   ]
  },
  {
   "cell_type": "code",
   "execution_count": 45,
   "id": "5b9f0e5f",
   "metadata": {},
   "outputs": [
    {
     "name": "stdout",
     "output_type": "stream",
     "text": [
      "The 10 nearest neighbors for the query unfortunate for a window size of 6 are:\n"
     ]
    },
    {
     "data": {
      "text/plain": [
       "{'rfa': 0.11559328386924364,\n",
       " 'obvious': 0.11522181849929793,\n",
       " 'pointless': 0.11404829209269683,\n",
       " 'ridiculous': 0.11326080385048823,\n",
       " 'admins': 0.11284459571522067,\n",
       " 'worse': 0.1098269434204022,\n",
       " 'bad': 0.10962681157818277,\n",
       " 'sorry': 0.10697079625165808,\n",
       " 'revert': 0.1038173780616668,\n",
       " 'uncivil': 0.10330535100640274}"
      ]
     },
     "execution_count": 45,
     "metadata": {},
     "output_type": "execute_result"
    }
   ],
   "source": [
    "print(\"The 10 nearest neighbors for the query unfortunate for a window size of 6 are:\")\n",
    "top_neighbors(neighbor_sim(pmi6, \"unfortunate\"), 10)"
   ]
  },
  {
   "cell_type": "markdown",
   "id": "29bb8cd1",
   "metadata": {},
   "source": [
    "##### Old"
   ]
  },
  {
   "cell_type": "code",
   "execution_count": 46,
   "id": "2bf955a1",
   "metadata": {},
   "outputs": [
    {
     "name": "stdout",
     "output_type": "stream",
     "text": [
      "The 10 nearest neighbors for the query old for a window size of 1 are:\n"
     ]
    },
    {
     "data": {
      "text/plain": [
       "{'former': 0.1815813367811281,\n",
       " 'near': 0.16485049912225316,\n",
       " 'original': 0.16017367125203658,\n",
       " 'ancient': 0.1600764740757699,\n",
       " 'and': 0.15816997897066198,\n",
       " \"'\": 0.15775695357992575,\n",
       " 'new': 0.15592481590667673,\n",
       " \"'s\": 0.15358139636483956,\n",
       " 'house': 0.1469234445976399,\n",
       " 'own': 0.14475519532146913}"
      ]
     },
     "execution_count": 46,
     "metadata": {},
     "output_type": "execute_result"
    }
   ],
   "source": [
    "print(\"The 10 nearest neighbors for the query old for a window size of 1 are:\")\n",
    "top_neighbors(neighbor_sim(pmi1, \"old\"), 10)"
   ]
  },
  {
   "cell_type": "code",
   "execution_count": 47,
   "id": "c914969a",
   "metadata": {},
   "outputs": [
    {
     "name": "stdout",
     "output_type": "stream",
     "text": [
      "The 10 nearest neighbors for the query old for a window size of 6 are:\n"
     ]
    },
    {
     "data": {
      "text/plain": [
       "{'near': 0.2696529190839171,\n",
       " 'town': 0.2677054812625177,\n",
       " 'house': 0.26148792050607533,\n",
       " 'built': 0.260586128163571,\n",
       " 'street': 0.25426577940979306,\n",
       " 'road': 0.2537774457695298,\n",
       " 'around': 0.2515753358064079,\n",
       " 'along': 0.2496824912804581,\n",
       " 'church': 0.24873611274480512,\n",
       " 'named': 0.2477848408068613}"
      ]
     },
     "execution_count": 47,
     "metadata": {},
     "output_type": "execute_result"
    }
   ],
   "source": [
    "print(\"The 10 nearest neighbors for the query old for a window size of 6 are:\")\n",
    "top_neighbors(neighbor_sim(pmi6, \"old\"), 10)"
   ]
  },
  {
   "cell_type": "markdown",
   "id": "016f9915",
   "metadata": {},
   "source": [
    "##### Beautiful"
   ]
  },
  {
   "cell_type": "code",
   "execution_count": 48,
   "id": "02c7f863",
   "metadata": {},
   "outputs": [
    {
     "name": "stdout",
     "output_type": "stream",
     "text": [
      "The 10 nearest neighbors for the query beautiful for a window size of 1 are:\n"
     ]
    },
    {
     "data": {
      "text/plain": [
       "{'attractive': 0.12286764526575818,\n",
       " 'scenic': 0.11979784646194881,\n",
       " 'dark': 0.10910366532801107,\n",
       " 'whose': 0.10339788098326241,\n",
       " 'amazing': 0.10280202060059712,\n",
       " 'magnificent': 0.1019612697813264,\n",
       " 'picturesque': 0.101107114542672,\n",
       " 'quiet': 0.10104235027330832,\n",
       " 'surrounding': 0.10075618276214583,\n",
       " 'strange': 0.09908990171567782}"
      ]
     },
     "execution_count": 48,
     "metadata": {},
     "output_type": "execute_result"
    }
   ],
   "source": [
    "print(\"The 10 nearest neighbors for the query beautiful for a window size of 1 are:\")\n",
    "top_neighbors(neighbor_sim(pmi1, \"beautiful\"), 10)"
   ]
  },
  {
   "cell_type": "code",
   "execution_count": 49,
   "id": "b1063bbd",
   "metadata": {},
   "outputs": [
    {
     "name": "stdout",
     "output_type": "stream",
     "text": [
      "The 10 nearest neighbors for the query beautiful for a window size of 6 are:\n"
     ]
    },
    {
     "data": {
      "text/plain": [
       "{'love': 0.17829662354168976,\n",
       " 'girl': 0.16454266947554894,\n",
       " 'woman': 0.16314502659033858,\n",
       " 'beauty': 0.1613598490730516,\n",
       " 'and': 0.1587926824097482,\n",
       " 'herself': 0.15694598572478693,\n",
       " 'lady': 0.15571801228873453,\n",
       " 'dark': 0.15557657363618616,\n",
       " 'man': 0.155534239193448,\n",
       " 'features': 0.15403724237065788}"
      ]
     },
     "execution_count": 49,
     "metadata": {},
     "output_type": "execute_result"
    }
   ],
   "source": [
    "print(\"The 10 nearest neighbors for the query beautiful for a window size of 6 are:\")\n",
    "top_neighbors(neighbor_sim(pmi6, \"beautiful\"), 10)"
   ]
  },
  {
   "cell_type": "markdown",
   "id": "91d3d3ff",
   "metadata": {},
   "source": [
    "### Exploring Prepositions"
   ]
  },
  {
   "cell_type": "markdown",
   "id": "4b2b8f8c",
   "metadata": {},
   "source": [
    "##### From"
   ]
  },
  {
   "cell_type": "code",
   "execution_count": 50,
   "id": "14174b6f",
   "metadata": {},
   "outputs": [
    {
     "name": "stdout",
     "output_type": "stream",
     "text": [
      "The 10 nearest neighbors for the query from for a window size of 1 are:\n"
     ]
    },
    {
     "data": {
      "text/plain": [
       "{'between': 0.2782062798295827,\n",
       " 'and': 0.26558088646584305,\n",
       " ',': 0.2633767572769072,\n",
       " 'at': 0.2599941017757793,\n",
       " 'into': 0.25996523308081826,\n",
       " '(': 0.25326910166717087,\n",
       " 'after': 0.2531520735233077,\n",
       " 'through': 0.2520860050117414,\n",
       " ';': 0.25101746833483085,\n",
       " 'until': 0.24559487886686712}"
      ]
     },
     "execution_count": 50,
     "metadata": {},
     "output_type": "execute_result"
    }
   ],
   "source": [
    "print(\"The 10 nearest neighbors for the query from for a window size of 1 are:\")\n",
    "top_neighbors(neighbor_sim(pmi1, \"from\"), 10)"
   ]
  },
  {
   "cell_type": "code",
   "execution_count": 51,
   "id": "6602c29a",
   "metadata": {},
   "outputs": [
    {
     "name": "stdout",
     "output_type": "stream",
     "text": [
      "The 10 nearest neighbors for the query from for a window size of 6 are:\n"
     ]
    },
    {
     "data": {
      "text/plain": [
       "{'in': 0.20092580298567653,\n",
       " 'until': 0.13338429454532652,\n",
       " 'between': 0.13311808165001363,\n",
       " 'at': 0.13269175886142354,\n",
       " 'south': 0.13244412828491745,\n",
       " 'graduated': 0.12965109278425696,\n",
       " 'north': 0.12290377111150749,\n",
       " ')': 0.11265502436840694,\n",
       " 'of': 0.11182259610328786,\n",
       " 'into': 0.10986855038323617}"
      ]
     },
     "execution_count": 51,
     "metadata": {},
     "output_type": "execute_result"
    }
   ],
   "source": [
    "print(\"The 10 nearest neighbors for the query from for a window size of 6 are:\")\n",
    "top_neighbors(neighbor_sim(pmi6, \"from\"), 10)"
   ]
  },
  {
   "cell_type": "markdown",
   "id": "9ee58d80",
   "metadata": {},
   "source": [
    "##### Until"
   ]
  },
  {
   "cell_type": "code",
   "execution_count": 52,
   "id": "9e2fe9bb",
   "metadata": {},
   "outputs": [
    {
     "name": "stdout",
     "output_type": "stream",
     "text": [
      "The 10 nearest neighbors for the query until for a window size of 1 are:\n"
     ]
    },
    {
     "data": {
      "text/plain": [
       "{'november': 0.43560865857425995,\n",
       " 'october': 0.43208682967940554,\n",
       " 'december': 0.42961210876530365,\n",
       " 'june': 0.42931583116247934,\n",
       " 'january': 0.42442131474886585,\n",
       " 'february': 0.4243749035951387,\n",
       " 'july': 0.422537037189496,\n",
       " 'september': 0.41671184723034815,\n",
       " 'april': 0.4146630994563259,\n",
       " 'march': 0.40023515487126893}"
      ]
     },
     "execution_count": 52,
     "metadata": {},
     "output_type": "execute_result"
    }
   ],
   "source": [
    "print(\"The 10 nearest neighbors for the query until for a window size of 1 are:\")\n",
    "top_neighbors(neighbor_sim(pmi1, \"until\"), 10)"
   ]
  },
  {
   "cell_type": "code",
   "execution_count": 53,
   "id": "fe318720",
   "metadata": {},
   "outputs": [
    {
     "name": "stdout",
     "output_type": "stream",
     "text": [
      "The 10 nearest neighbors for the query until for a window size of 6 are:\n"
     ]
    },
    {
     "data": {
      "text/plain": [
       "{'january': 0.3857846574071682,\n",
       " 'june': 0.37030969772954603,\n",
       " 'march': 0.3677973654716872,\n",
       " 'april': 0.36487444656832235,\n",
       " 'august': 0.3627952243279468,\n",
       " 'july': 0.3617022227237661,\n",
       " 'october': 0.36143367640843693,\n",
       " 'december': 0.3602865538951876,\n",
       " 'september': 0.35744344024405844,\n",
       " 'november': 0.35110071202220994}"
      ]
     },
     "execution_count": 53,
     "metadata": {},
     "output_type": "execute_result"
    }
   ],
   "source": [
    "print(\"The 10 nearest neighbors for the query until for a window size of 6 are:\")\n",
    "top_neighbors(neighbor_sim(pmi6, \"until\"), 10)"
   ]
  },
  {
   "cell_type": "markdown",
   "id": "42bb58be",
   "metadata": {},
   "source": [
    "##### Throughout"
   ]
  },
  {
   "cell_type": "code",
   "execution_count": 54,
   "id": "7305d3d1",
   "metadata": {},
   "outputs": [
    {
     "name": "stdout",
     "output_type": "stream",
     "text": [
      "The 10 nearest neighbors for the query throughout for a window size of 1 are:\n"
     ]
    },
    {
     "data": {
      "text/plain": [
       "{'across': 0.27894804976310655,\n",
       " 'within': 0.2064544540329971,\n",
       " 'around': 0.2005868886203084,\n",
       " 'during': 0.19482646710801804,\n",
       " 'several': 0.1880450219421758,\n",
       " 'and': 0.18620200108872995,\n",
       " 'various': 0.183601447631892,\n",
       " 'through': 0.18121710392371732,\n",
       " 'these': 0.17964242017668755,\n",
       " 'between': 0.17260225419965508}"
      ]
     },
     "execution_count": 54,
     "metadata": {},
     "output_type": "execute_result"
    }
   ],
   "source": [
    "print(\"The 10 nearest neighbors for the query throughout for a window size of 1 are:\")\n",
    "top_neighbors(neighbor_sim(pmi1, \"throughout\"), 10)"
   ]
  },
  {
   "cell_type": "code",
   "execution_count": 55,
   "id": "dd6da179",
   "metadata": {},
   "outputs": [
    {
     "name": "stdout",
     "output_type": "stream",
     "text": [
      "The 10 nearest neighbors for the query throughout for a window size of 6 are:\n"
     ]
    },
    {
     "data": {
      "text/plain": [
       "{'europe': 0.29026152563473173,\n",
       " 'various': 0.2871760782782217,\n",
       " 'across': 0.2794634404650285,\n",
       " 'and': 0.2565022655413914,\n",
       " 'numerous': 0.254886267565894,\n",
       " 'several': 0.24411912903050137,\n",
       " 'popular': 0.24379317668681028,\n",
       " 'including': 0.23973785332785313,\n",
       " 'among': 0.23851526963693281,\n",
       " 'countries': 0.23822507658966122}"
      ]
     },
     "execution_count": 55,
     "metadata": {},
     "output_type": "execute_result"
    }
   ],
   "source": [
    "print(\"The 10 nearest neighbors for the query throughout for a window size of 6 are:\")\n",
    "top_neighbors(neighbor_sim(pmi6, \"throughout\"), 10)"
   ]
  },
  {
   "cell_type": "markdown",
   "id": "f08c1f2e",
   "metadata": {},
   "source": [
    "### Multiple Senses"
   ]
  },
  {
   "cell_type": "markdown",
   "id": "f9f7281b",
   "metadata": {},
   "source": [
    "##### Cell"
   ]
  },
  {
   "cell_type": "code",
   "execution_count": 56,
   "id": "d71b6f61",
   "metadata": {},
   "outputs": [
    {
     "name": "stdout",
     "output_type": "stream",
     "text": [
      "The 10 nearest neighbors for the query cell for a window size of 1 are:\n"
     ]
    },
    {
     "data": {
      "text/plain": [
       "{'cells': 0.2851728306472021,\n",
       " 'cellular': 0.19772076775249797,\n",
       " 'protein': 0.1560478618535771,\n",
       " 'tissue': 0.15554740292289557,\n",
       " 'brain': 0.1255347104153189,\n",
       " 'proteins': 0.1253251187488892,\n",
       " 'tissues': 0.12236086993961218,\n",
       " 'enzyme': 0.12090839370144435,\n",
       " 'growth': 0.1164628956117116,\n",
       " 'human': 0.11247267121125785}"
      ]
     },
     "execution_count": 56,
     "metadata": {},
     "output_type": "execute_result"
    }
   ],
   "source": [
    "print(\"The 10 nearest neighbors for the query cell for a window size of 1 are:\")\n",
    "top_neighbors(neighbor_sim(pmi1, \"cell\"), 10)"
   ]
  },
  {
   "cell_type": "code",
   "execution_count": 57,
   "id": "57ce6faa",
   "metadata": {},
   "outputs": [
    {
     "name": "stdout",
     "output_type": "stream",
     "text": [
      "The 10 nearest neighbors for the query cell for a window size of 6 are:\n"
     ]
    },
    {
     "data": {
      "text/plain": [
       "{'cells': 0.42074666867478716,\n",
       " 'protein': 0.29812111882972314,\n",
       " 'membrane': 0.28179218378056975,\n",
       " 'proteins': 0.27913113627498554,\n",
       " 'cellular': 0.2692254966662287,\n",
       " 'dna': 0.26177802237842224,\n",
       " 'genes': 0.24907488906822545,\n",
       " 'function': 0.24719947735497375,\n",
       " 'tissue': 0.24505657861549318,\n",
       " 'brain': 0.24308641561349376}"
      ]
     },
     "execution_count": 57,
     "metadata": {},
     "output_type": "execute_result"
    }
   ],
   "source": [
    "print(\"The 10 nearest neighbors for the query cell for a window size of 6 are:\")\n",
    "top_neighbors(neighbor_sim(pmi6, \"cell\"), 10)"
   ]
  },
  {
   "cell_type": "markdown",
   "id": "99f9325d",
   "metadata": {},
   "source": [
    "##### Axes"
   ]
  },
  {
   "cell_type": "code",
   "execution_count": 58,
   "id": "ac075185",
   "metadata": {},
   "outputs": [
    {
     "name": "stdout",
     "output_type": "stream",
     "text": [
      "The 10 nearest neighbors for the query axes for a window size of 1 are:\n"
     ]
    },
    {
     "data": {
      "text/plain": [
       "{'phases': 0.16864777020629368,\n",
       " 'tributaries': 0.13369696016936689,\n",
       " 'qualities': 0.12029120258539383,\n",
       " 'paths': 0.11841124122110074,\n",
       " 'viewpoints': 0.11834146551319373,\n",
       " 'sorts': 0.11059612017096149,\n",
       " 'spells': 0.11049622160834162,\n",
       " 'branches': 0.1073902459952875,\n",
       " 'dir': 0.10711014125630854,\n",
       " 'motifs': 0.10588864092378572}"
      ]
     },
     "execution_count": 58,
     "metadata": {},
     "output_type": "execute_result"
    }
   ],
   "source": [
    "print(\"The 10 nearest neighbors for the query axes for a window size of 1 are:\")\n",
    "top_neighbors(neighbor_sim(pmi1, \"axes\"), 10)"
   ]
  },
  {
   "cell_type": "code",
   "execution_count": 59,
   "id": "2032f4fd",
   "metadata": {},
   "outputs": [
    {
     "name": "stdout",
     "output_type": "stream",
     "text": [
      "The 10 nearest neighbors for the query axes for a window size of 6 are:\n"
     ]
    },
    {
     "data": {
      "text/plain": [
       "{'angles': 0.12405253952357777,\n",
       " 'flint': 0.11819884153862353,\n",
       " 'neolithic': 0.11329153867626257,\n",
       " 'axe': 0.10812032398672317,\n",
       " 'symmetry': 0.10805087829852265,\n",
       " 'parallel': 0.10783629890847443,\n",
       " 'shapes': 0.10656858934189811,\n",
       " 'puzzle': 0.10269021366550293,\n",
       " 'knives': 0.10173101371580216,\n",
       " 'vectors': 0.1000958174255486}"
      ]
     },
     "execution_count": 59,
     "metadata": {},
     "output_type": "execute_result"
    }
   ],
   "source": [
    "print(\"The 10 nearest neighbors for the query axes for a window size of 6 are:\")\n",
    "top_neighbors(neighbor_sim(pmi6, \"axes\"), 10)"
   ]
  },
  {
   "cell_type": "markdown",
   "id": "bddea8ab",
   "metadata": {},
   "source": [
    "##### Well"
   ]
  },
  {
   "cell_type": "code",
   "execution_count": 60,
   "id": "bc0f76b6",
   "metadata": {},
   "outputs": [
    {
     "name": "stdout",
     "output_type": "stream",
     "text": [
      "The 10 nearest neighbors for the query well for a window size of 1 are:\n"
     ]
    },
    {
     "data": {
      "text/plain": [
       "{'poorly': 0.23511872616620255,\n",
       " 'be': 0.20453479278971612,\n",
       " 'been': 0.19704630742293328,\n",
       " 'however': 0.1963818805766009,\n",
       " 'there': 0.19393588352039187,\n",
       " 'united': 0.18701229642676884,\n",
       " 'preserved': 0.18145740982903139,\n",
       " 'discussion': 0.17883597431381398,\n",
       " 'debate': 0.1786375855188284,\n",
       " 'list': 0.16900050329970448}"
      ]
     },
     "execution_count": 60,
     "metadata": {},
     "output_type": "execute_result"
    }
   ],
   "source": [
    "print(\"The 10 nearest neighbors for the query well for a window size of 1 are:\")\n",
    "top_neighbors(neighbor_sim(pmi1, \"well\"), 10)"
   ]
  },
  {
   "cell_type": "code",
   "execution_count": 61,
   "id": "9b4b8544",
   "metadata": {},
   "outputs": [
    {
     "name": "stdout",
     "output_type": "stream",
     "text": [
      "The 10 nearest neighbors for the query well for a window size of 6 are:\n"
     ]
    },
    {
     "data": {
      "text/plain": [
       "{'many': 0.34966484481505045,\n",
       " 'such': 0.3496500211939341,\n",
       " 'including': 0.32175568784431957,\n",
       " 'like': 0.316865541748396,\n",
       " 'other': 0.30415800434788876,\n",
       " 'most': 0.3010622913833909,\n",
       " 'several': 0.29409380377652716,\n",
       " 'some': 0.29190904736903106,\n",
       " 'these': 0.2851478841167799,\n",
       " 'both': 0.28267779687207856}"
      ]
     },
     "execution_count": 61,
     "metadata": {},
     "output_type": "execute_result"
    }
   ],
   "source": [
    "print(\"The 10 nearest neighbors for the query well for a window size of 6 are:\")\n",
    "top_neighbors(neighbor_sim(pmi6, \"well\"), 10)"
   ]
  },
  {
   "cell_type": "markdown",
   "id": "a6b62d75",
   "metadata": {},
   "source": [
    "##### Fine"
   ]
  },
  {
   "cell_type": "code",
   "execution_count": 62,
   "id": "f31720d3",
   "metadata": {},
   "outputs": [
    {
     "name": "stdout",
     "output_type": "stream",
     "text": [
      "The 10 nearest neighbors for the query fine for a window size of 1 are:\n"
     ]
    },
    {
     "data": {
      "text/plain": [
       "{'good': 0.13579260233439683,\n",
       " 'white': 0.11453315906691554,\n",
       " 'large': 0.11155278412114225,\n",
       " 'better': 0.10655854437917536,\n",
       " 'excellent': 0.10411036365969184,\n",
       " 'solid': 0.10062722762480507,\n",
       " 'industry': 0.10037443729565478,\n",
       " 'decorative': 0.10007789550711668,\n",
       " 'finest': 0.09975373136358939,\n",
       " 'useful': 0.09812202801915709}"
      ]
     },
     "execution_count": 62,
     "metadata": {},
     "output_type": "execute_result"
    }
   ],
   "source": [
    "print(\"The 10 nearest neighbors for the query fine for a window size of 1 are:\")\n",
    "top_neighbors(neighbor_sim(pmi1, \"fine\"), 10)"
   ]
  },
  {
   "cell_type": "code",
   "execution_count": 63,
   "id": "c944f7f7",
   "metadata": {},
   "outputs": [
    {
     "name": "stdout",
     "output_type": "stream",
     "text": [
      "The 10 nearest neighbors for the query fine for a window size of 6 are:\n"
     ]
    },
    {
     "data": {
      "text/plain": [
       "{'arts': 0.25115817025309023,\n",
       " 'art': 0.19460947471094986,\n",
       " 'painting': 0.17909200988982046,\n",
       " 'style': 0.17621850267370973,\n",
       " 'design': 0.17441686400730266,\n",
       " 'and': 0.16930230354878453,\n",
       " 'architecture': 0.1680747248153069,\n",
       " 'museum': 0.16487054104934665,\n",
       " 'designed': 0.16370321285163467,\n",
       " 'makes': 0.15900427871058181}"
      ]
     },
     "execution_count": 63,
     "metadata": {},
     "output_type": "execute_result"
    }
   ],
   "source": [
    "print(\"The 10 nearest neighbors for the query fine for a window size of 6 are:\")\n",
    "top_neighbors(neighbor_sim(pmi6, \"fine\"), 10)"
   ]
  },
  {
   "cell_type": "markdown",
   "id": "ba363a62",
   "metadata": {},
   "source": [
    "##### Bank"
   ]
  },
  {
   "cell_type": "code",
   "execution_count": 64,
   "id": "6e085308",
   "metadata": {},
   "outputs": [
    {
     "name": "stdout",
     "output_type": "stream",
     "text": [
      "The 10 nearest neighbors for the query bank for a window size of 1 are:\n"
     ]
    },
    {
     "data": {
      "text/plain": [
       "{'banks': 0.18503418497990007,\n",
       " 'company': 0.14250473394302227,\n",
       " 'insurance': 0.13310710202146855,\n",
       " 'corporation': 0.13000024126867837,\n",
       " 'railway': 0.12567429300462524,\n",
       " 'government': 0.12413683781723982,\n",
       " 'banking': 0.1180859723763327,\n",
       " 'companies': 0.11398682253343481,\n",
       " 'council': 0.11177039278574444,\n",
       " 'conference': 0.11162343452391334}"
      ]
     },
     "execution_count": 64,
     "metadata": {},
     "output_type": "execute_result"
    }
   ],
   "source": [
    "print(\"The 10 nearest neighbors for the query bank for a window size of 1 are:\")\n",
    "top_neighbors(neighbor_sim(pmi1, \"bank\"), 10)"
   ]
  },
  {
   "cell_type": "code",
   "execution_count": 65,
   "id": "2b0e0435",
   "metadata": {},
   "outputs": [
    {
     "name": "stdout",
     "output_type": "stream",
     "text": [
      "The 10 nearest neighbors for the query bank for a window size of 6 are:\n"
     ]
    },
    {
     "data": {
      "text/plain": [
       "{'corporation': 0.26221566780928673,\n",
       " 'banks': 0.24758291803801052,\n",
       " 'company': 0.2436374591101106,\n",
       " 'railway': 0.2398106744604298,\n",
       " 'river': 0.23968865369035297,\n",
       " 'capital': 0.23609452741907333,\n",
       " 'west': 0.2355546138498835,\n",
       " 'central': 0.22997831742130545,\n",
       " 'east': 0.22897370537531392,\n",
       " 'northern': 0.22406283938827587}"
      ]
     },
     "execution_count": 65,
     "metadata": {},
     "output_type": "execute_result"
    }
   ],
   "source": [
    "print(\"The 10 nearest neighbors for the query bank for a window size of 6 are:\")\n",
    "top_neighbors(neighbor_sim(pmi6, \"bank\"), 10)"
   ]
  },
  {
   "cell_type": "code",
   "execution_count": null,
   "id": "d53c672e",
   "metadata": {},
   "outputs": [],
   "source": []
  }
 ],
 "metadata": {
  "kernelspec": {
   "display_name": "Python [conda env:nlp_env]",
   "language": "python",
   "name": "conda-env-nlp_env-py"
  },
  "language_info": {
   "codemirror_mode": {
    "name": "ipython",
    "version": 3
   },
   "file_extension": ".py",
   "mimetype": "text/x-python",
   "name": "python",
   "nbconvert_exporter": "python",
   "pygments_lexer": "ipython3",
   "version": "3.8.2"
  }
 },
 "nbformat": 4,
 "nbformat_minor": 5
}
